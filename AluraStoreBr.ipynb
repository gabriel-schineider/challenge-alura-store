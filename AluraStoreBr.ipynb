{
  "nbformat": 4,
  "nbformat_minor": 0,
  "metadata": {
    "colab": {
      "provenance": [],
      "collapsed_sections": [
        "RhEdWd9YUR6H",
        "2V_vcAPzWZmR",
        "Rq6tU_xSY3jk",
        "DmNp1KPBZCm-",
        "Fl0cGi3bZKqU",
        "Vd_oyw_PjdSY",
        "9AtwbyULjjEo",
        "02YMTuukmeZS",
        "DqtPWn4jmgM5"
      ],
      "include_colab_link": true
    },
    "kernelspec": {
      "name": "python3",
      "display_name": "Python 3"
    },
    "language_info": {
      "name": "python"
    }
  },
  "cells": [
    {
      "cell_type": "markdown",
      "metadata": {
        "id": "view-in-github",
        "colab_type": "text"
      },
      "source": [
        "<a href=\"https://colab.research.google.com/github/o-gabriel-schneider/challenge-alura-store/blob/main/AluraStoreBr.ipynb\" target=\"_parent\"><img src=\"https://colab.research.google.com/assets/colab-badge.svg\" alt=\"Open In Colab\"/></a>"
      ]
    },
    {
      "cell_type": "markdown",
      "source": [
        "### Importação dos dados\n",
        "\n"
      ],
      "metadata": {
        "id": "RhEdWd9YUR6H"
      }
    },
    {
      "cell_type": "code",
      "execution_count": 1,
      "metadata": {
        "colab": {
          "base_uri": "https://localhost:8080/",
          "height": 0
        },
        "id": "T3EvaeQ_INIL",
        "outputId": "82adcaee-9203-4c9b-d21c-6d843bed4945"
      },
      "outputs": [
        {
          "output_type": "execute_result",
          "data": {
            "text/plain": [
              "                 Produto Categoria do Produto    Preço      Frete  \\\n",
              "0     Assistente virtual          eletronicos   219.08   9.249790   \n",
              "1         Mesa de jantar               moveis   256.35  11.234305   \n",
              "2      Jogo de tabuleiro           brinquedos   279.51  21.262681   \n",
              "3            Micro-ondas     eletrodomesticos  1009.99  54.667344   \n",
              "4  Cadeira de escritório               moveis   446.99  26.964689   \n",
              "\n",
              "  Data da Compra        Vendedor Local da compra  Avaliação da compra  \\\n",
              "0     16/01/2021     Pedro Gomes              SP                    4   \n",
              "1     18/05/2022  Beatriz Moraes              RJ                    1   \n",
              "2     15/03/2021      João Souza              DF                    1   \n",
              "3     03/05/2022      João Souza              RS                    4   \n",
              "4     07/11/2020   Larissa Alves              MG                    5   \n",
              "\n",
              "  Tipo de pagamento  Quantidade de parcelas    lat    lon  \n",
              "0    cartao_credito                       8 -22.19 -48.79  \n",
              "1    cartao_credito                       4 -22.25 -42.66  \n",
              "2    cartao_credito                       1 -15.83 -47.86  \n",
              "3            boleto                       1 -30.17 -53.50  \n",
              "4            boleto                       1 -18.10 -44.38  "
            ],
            "text/html": [
              "\n",
              "  <div id=\"df-1eaf3f07-b228-4306-8f03-6f139b08edb6\" class=\"colab-df-container\">\n",
              "    <div>\n",
              "<style scoped>\n",
              "    .dataframe tbody tr th:only-of-type {\n",
              "        vertical-align: middle;\n",
              "    }\n",
              "\n",
              "    .dataframe tbody tr th {\n",
              "        vertical-align: top;\n",
              "    }\n",
              "\n",
              "    .dataframe thead th {\n",
              "        text-align: right;\n",
              "    }\n",
              "</style>\n",
              "<table border=\"1\" class=\"dataframe\">\n",
              "  <thead>\n",
              "    <tr style=\"text-align: right;\">\n",
              "      <th></th>\n",
              "      <th>Produto</th>\n",
              "      <th>Categoria do Produto</th>\n",
              "      <th>Preço</th>\n",
              "      <th>Frete</th>\n",
              "      <th>Data da Compra</th>\n",
              "      <th>Vendedor</th>\n",
              "      <th>Local da compra</th>\n",
              "      <th>Avaliação da compra</th>\n",
              "      <th>Tipo de pagamento</th>\n",
              "      <th>Quantidade de parcelas</th>\n",
              "      <th>lat</th>\n",
              "      <th>lon</th>\n",
              "    </tr>\n",
              "  </thead>\n",
              "  <tbody>\n",
              "    <tr>\n",
              "      <th>0</th>\n",
              "      <td>Assistente virtual</td>\n",
              "      <td>eletronicos</td>\n",
              "      <td>219.08</td>\n",
              "      <td>9.249790</td>\n",
              "      <td>16/01/2021</td>\n",
              "      <td>Pedro Gomes</td>\n",
              "      <td>SP</td>\n",
              "      <td>4</td>\n",
              "      <td>cartao_credito</td>\n",
              "      <td>8</td>\n",
              "      <td>-22.19</td>\n",
              "      <td>-48.79</td>\n",
              "    </tr>\n",
              "    <tr>\n",
              "      <th>1</th>\n",
              "      <td>Mesa de jantar</td>\n",
              "      <td>moveis</td>\n",
              "      <td>256.35</td>\n",
              "      <td>11.234305</td>\n",
              "      <td>18/05/2022</td>\n",
              "      <td>Beatriz Moraes</td>\n",
              "      <td>RJ</td>\n",
              "      <td>1</td>\n",
              "      <td>cartao_credito</td>\n",
              "      <td>4</td>\n",
              "      <td>-22.25</td>\n",
              "      <td>-42.66</td>\n",
              "    </tr>\n",
              "    <tr>\n",
              "      <th>2</th>\n",
              "      <td>Jogo de tabuleiro</td>\n",
              "      <td>brinquedos</td>\n",
              "      <td>279.51</td>\n",
              "      <td>21.262681</td>\n",
              "      <td>15/03/2021</td>\n",
              "      <td>João Souza</td>\n",
              "      <td>DF</td>\n",
              "      <td>1</td>\n",
              "      <td>cartao_credito</td>\n",
              "      <td>1</td>\n",
              "      <td>-15.83</td>\n",
              "      <td>-47.86</td>\n",
              "    </tr>\n",
              "    <tr>\n",
              "      <th>3</th>\n",
              "      <td>Micro-ondas</td>\n",
              "      <td>eletrodomesticos</td>\n",
              "      <td>1009.99</td>\n",
              "      <td>54.667344</td>\n",
              "      <td>03/05/2022</td>\n",
              "      <td>João Souza</td>\n",
              "      <td>RS</td>\n",
              "      <td>4</td>\n",
              "      <td>boleto</td>\n",
              "      <td>1</td>\n",
              "      <td>-30.17</td>\n",
              "      <td>-53.50</td>\n",
              "    </tr>\n",
              "    <tr>\n",
              "      <th>4</th>\n",
              "      <td>Cadeira de escritório</td>\n",
              "      <td>moveis</td>\n",
              "      <td>446.99</td>\n",
              "      <td>26.964689</td>\n",
              "      <td>07/11/2020</td>\n",
              "      <td>Larissa Alves</td>\n",
              "      <td>MG</td>\n",
              "      <td>5</td>\n",
              "      <td>boleto</td>\n",
              "      <td>1</td>\n",
              "      <td>-18.10</td>\n",
              "      <td>-44.38</td>\n",
              "    </tr>\n",
              "  </tbody>\n",
              "</table>\n",
              "</div>\n",
              "    <div class=\"colab-df-buttons\">\n",
              "\n",
              "  <div class=\"colab-df-container\">\n",
              "    <button class=\"colab-df-convert\" onclick=\"convertToInteractive('df-1eaf3f07-b228-4306-8f03-6f139b08edb6')\"\n",
              "            title=\"Convert this dataframe to an interactive table.\"\n",
              "            style=\"display:none;\">\n",
              "\n",
              "  <svg xmlns=\"http://www.w3.org/2000/svg\" height=\"24px\" viewBox=\"0 -960 960 960\">\n",
              "    <path d=\"M120-120v-720h720v720H120Zm60-500h600v-160H180v160Zm220 220h160v-160H400v160Zm0 220h160v-160H400v160ZM180-400h160v-160H180v160Zm440 0h160v-160H620v160ZM180-180h160v-160H180v160Zm440 0h160v-160H620v160Z\"/>\n",
              "  </svg>\n",
              "    </button>\n",
              "\n",
              "  <style>\n",
              "    .colab-df-container {\n",
              "      display:flex;\n",
              "      gap: 12px;\n",
              "    }\n",
              "\n",
              "    .colab-df-convert {\n",
              "      background-color: #E8F0FE;\n",
              "      border: none;\n",
              "      border-radius: 50%;\n",
              "      cursor: pointer;\n",
              "      display: none;\n",
              "      fill: #1967D2;\n",
              "      height: 32px;\n",
              "      padding: 0 0 0 0;\n",
              "      width: 32px;\n",
              "    }\n",
              "\n",
              "    .colab-df-convert:hover {\n",
              "      background-color: #E2EBFA;\n",
              "      box-shadow: 0px 1px 2px rgba(60, 64, 67, 0.3), 0px 1px 3px 1px rgba(60, 64, 67, 0.15);\n",
              "      fill: #174EA6;\n",
              "    }\n",
              "\n",
              "    .colab-df-buttons div {\n",
              "      margin-bottom: 4px;\n",
              "    }\n",
              "\n",
              "    [theme=dark] .colab-df-convert {\n",
              "      background-color: #3B4455;\n",
              "      fill: #D2E3FC;\n",
              "    }\n",
              "\n",
              "    [theme=dark] .colab-df-convert:hover {\n",
              "      background-color: #434B5C;\n",
              "      box-shadow: 0px 1px 3px 1px rgba(0, 0, 0, 0.15);\n",
              "      filter: drop-shadow(0px 1px 2px rgba(0, 0, 0, 0.3));\n",
              "      fill: #FFFFFF;\n",
              "    }\n",
              "  </style>\n",
              "\n",
              "    <script>\n",
              "      const buttonEl =\n",
              "        document.querySelector('#df-1eaf3f07-b228-4306-8f03-6f139b08edb6 button.colab-df-convert');\n",
              "      buttonEl.style.display =\n",
              "        google.colab.kernel.accessAllowed ? 'block' : 'none';\n",
              "\n",
              "      async function convertToInteractive(key) {\n",
              "        const element = document.querySelector('#df-1eaf3f07-b228-4306-8f03-6f139b08edb6');\n",
              "        const dataTable =\n",
              "          await google.colab.kernel.invokeFunction('convertToInteractive',\n",
              "                                                    [key], {});\n",
              "        if (!dataTable) return;\n",
              "\n",
              "        const docLinkHtml = 'Like what you see? Visit the ' +\n",
              "          '<a target=\"_blank\" href=https://colab.research.google.com/notebooks/data_table.ipynb>data table notebook</a>'\n",
              "          + ' to learn more about interactive tables.';\n",
              "        element.innerHTML = '';\n",
              "        dataTable['output_type'] = 'display_data';\n",
              "        await google.colab.output.renderOutput(dataTable, element);\n",
              "        const docLink = document.createElement('div');\n",
              "        docLink.innerHTML = docLinkHtml;\n",
              "        element.appendChild(docLink);\n",
              "      }\n",
              "    </script>\n",
              "  </div>\n",
              "\n",
              "\n",
              "    <div id=\"df-61dd8d6d-f9fb-4e64-b67f-1858e494ea71\">\n",
              "      <button class=\"colab-df-quickchart\" onclick=\"quickchart('df-61dd8d6d-f9fb-4e64-b67f-1858e494ea71')\"\n",
              "                title=\"Suggest charts\"\n",
              "                style=\"display:none;\">\n",
              "\n",
              "<svg xmlns=\"http://www.w3.org/2000/svg\" height=\"24px\"viewBox=\"0 0 24 24\"\n",
              "     width=\"24px\">\n",
              "    <g>\n",
              "        <path d=\"M19 3H5c-1.1 0-2 .9-2 2v14c0 1.1.9 2 2 2h14c1.1 0 2-.9 2-2V5c0-1.1-.9-2-2-2zM9 17H7v-7h2v7zm4 0h-2V7h2v10zm4 0h-2v-4h2v4z\"/>\n",
              "    </g>\n",
              "</svg>\n",
              "      </button>\n",
              "\n",
              "<style>\n",
              "  .colab-df-quickchart {\n",
              "      --bg-color: #E8F0FE;\n",
              "      --fill-color: #1967D2;\n",
              "      --hover-bg-color: #E2EBFA;\n",
              "      --hover-fill-color: #174EA6;\n",
              "      --disabled-fill-color: #AAA;\n",
              "      --disabled-bg-color: #DDD;\n",
              "  }\n",
              "\n",
              "  [theme=dark] .colab-df-quickchart {\n",
              "      --bg-color: #3B4455;\n",
              "      --fill-color: #D2E3FC;\n",
              "      --hover-bg-color: #434B5C;\n",
              "      --hover-fill-color: #FFFFFF;\n",
              "      --disabled-bg-color: #3B4455;\n",
              "      --disabled-fill-color: #666;\n",
              "  }\n",
              "\n",
              "  .colab-df-quickchart {\n",
              "    background-color: var(--bg-color);\n",
              "    border: none;\n",
              "    border-radius: 50%;\n",
              "    cursor: pointer;\n",
              "    display: none;\n",
              "    fill: var(--fill-color);\n",
              "    height: 32px;\n",
              "    padding: 0;\n",
              "    width: 32px;\n",
              "  }\n",
              "\n",
              "  .colab-df-quickchart:hover {\n",
              "    background-color: var(--hover-bg-color);\n",
              "    box-shadow: 0 1px 2px rgba(60, 64, 67, 0.3), 0 1px 3px 1px rgba(60, 64, 67, 0.15);\n",
              "    fill: var(--button-hover-fill-color);\n",
              "  }\n",
              "\n",
              "  .colab-df-quickchart-complete:disabled,\n",
              "  .colab-df-quickchart-complete:disabled:hover {\n",
              "    background-color: var(--disabled-bg-color);\n",
              "    fill: var(--disabled-fill-color);\n",
              "    box-shadow: none;\n",
              "  }\n",
              "\n",
              "  .colab-df-spinner {\n",
              "    border: 2px solid var(--fill-color);\n",
              "    border-color: transparent;\n",
              "    border-bottom-color: var(--fill-color);\n",
              "    animation:\n",
              "      spin 1s steps(1) infinite;\n",
              "  }\n",
              "\n",
              "  @keyframes spin {\n",
              "    0% {\n",
              "      border-color: transparent;\n",
              "      border-bottom-color: var(--fill-color);\n",
              "      border-left-color: var(--fill-color);\n",
              "    }\n",
              "    20% {\n",
              "      border-color: transparent;\n",
              "      border-left-color: var(--fill-color);\n",
              "      border-top-color: var(--fill-color);\n",
              "    }\n",
              "    30% {\n",
              "      border-color: transparent;\n",
              "      border-left-color: var(--fill-color);\n",
              "      border-top-color: var(--fill-color);\n",
              "      border-right-color: var(--fill-color);\n",
              "    }\n",
              "    40% {\n",
              "      border-color: transparent;\n",
              "      border-right-color: var(--fill-color);\n",
              "      border-top-color: var(--fill-color);\n",
              "    }\n",
              "    60% {\n",
              "      border-color: transparent;\n",
              "      border-right-color: var(--fill-color);\n",
              "    }\n",
              "    80% {\n",
              "      border-color: transparent;\n",
              "      border-right-color: var(--fill-color);\n",
              "      border-bottom-color: var(--fill-color);\n",
              "    }\n",
              "    90% {\n",
              "      border-color: transparent;\n",
              "      border-bottom-color: var(--fill-color);\n",
              "    }\n",
              "  }\n",
              "</style>\n",
              "\n",
              "      <script>\n",
              "        async function quickchart(key) {\n",
              "          const quickchartButtonEl =\n",
              "            document.querySelector('#' + key + ' button');\n",
              "          quickchartButtonEl.disabled = true;  // To prevent multiple clicks.\n",
              "          quickchartButtonEl.classList.add('colab-df-spinner');\n",
              "          try {\n",
              "            const charts = await google.colab.kernel.invokeFunction(\n",
              "                'suggestCharts', [key], {});\n",
              "          } catch (error) {\n",
              "            console.error('Error during call to suggestCharts:', error);\n",
              "          }\n",
              "          quickchartButtonEl.classList.remove('colab-df-spinner');\n",
              "          quickchartButtonEl.classList.add('colab-df-quickchart-complete');\n",
              "        }\n",
              "        (() => {\n",
              "          let quickchartButtonEl =\n",
              "            document.querySelector('#df-61dd8d6d-f9fb-4e64-b67f-1858e494ea71 button');\n",
              "          quickchartButtonEl.style.display =\n",
              "            google.colab.kernel.accessAllowed ? 'block' : 'none';\n",
              "        })();\n",
              "      </script>\n",
              "    </div>\n",
              "\n",
              "    </div>\n",
              "  </div>\n"
            ],
            "application/vnd.google.colaboratory.intrinsic+json": {
              "type": "dataframe",
              "variable_name": "loja1",
              "summary": "{\n  \"name\": \"loja1\",\n  \"rows\": 2359,\n  \"fields\": [\n    {\n      \"column\": \"Produto\",\n      \"properties\": {\n        \"dtype\": \"category\",\n        \"num_unique_values\": 51,\n        \"samples\": [\n          \"Viol\\u00e3o\",\n          \"Bola de basquete\",\n          \"Smartwatch\"\n        ],\n        \"semantic_type\": \"\",\n        \"description\": \"\"\n      }\n    },\n    {\n      \"column\": \"Categoria do Produto\",\n      \"properties\": {\n        \"dtype\": \"category\",\n        \"num_unique_values\": 8,\n        \"samples\": [\n          \"moveis\",\n          \"esporte e lazer\",\n          \"eletronicos\"\n        ],\n        \"semantic_type\": \"\",\n        \"description\": \"\"\n      }\n    },\n    {\n      \"column\": \"Pre\\u00e7o\",\n      \"properties\": {\n        \"dtype\": \"number\",\n        \"std\": 819.5827782539145,\n        \"min\": 10.07,\n        \"max\": 3969.38,\n        \"num_unique_values\": 2315,\n        \"samples\": [\n          446.11,\n          107.31,\n          65.86\n        ],\n        \"semantic_type\": \"\",\n        \"description\": \"\"\n      }\n    },\n    {\n      \"column\": \"Frete\",\n      \"properties\": {\n        \"dtype\": \"number\",\n        \"std\": 43.814183327408166,\n        \"min\": 0.0,\n        \"max\": 214.3770604781,\n        \"num_unique_values\": 2149,\n        \"samples\": [\n          83.815279607,\n          16.069664669,\n          14.0344876928\n        ],\n        \"semantic_type\": \"\",\n        \"description\": \"\"\n      }\n    },\n    {\n      \"column\": \"Data da Compra\",\n      \"properties\": {\n        \"dtype\": \"object\",\n        \"num_unique_values\": 1018,\n        \"samples\": [\n          \"15/09/2022\",\n          \"03/06/2020\",\n          \"06/11/2021\"\n        ],\n        \"semantic_type\": \"\",\n        \"description\": \"\"\n      }\n    },\n    {\n      \"column\": \"Vendedor\",\n      \"properties\": {\n        \"dtype\": \"category\",\n        \"num_unique_values\": 14,\n        \"samples\": [\n          \"Juliana Costa\",\n          \"Mariana Ferreira\",\n          \"Pedro Gomes\"\n        ],\n        \"semantic_type\": \"\",\n        \"description\": \"\"\n      }\n    },\n    {\n      \"column\": \"Local da compra\",\n      \"properties\": {\n        \"dtype\": \"category\",\n        \"num_unique_values\": 26,\n        \"samples\": [\n          \"TO\",\n          \"RN\",\n          \"SP\"\n        ],\n        \"semantic_type\": \"\",\n        \"description\": \"\"\n      }\n    },\n    {\n      \"column\": \"Avalia\\u00e7\\u00e3o da compra\",\n      \"properties\": {\n        \"dtype\": \"number\",\n        \"std\": 1,\n        \"min\": 1,\n        \"max\": 5,\n        \"num_unique_values\": 5,\n        \"samples\": [\n          1,\n          2,\n          5\n        ],\n        \"semantic_type\": \"\",\n        \"description\": \"\"\n      }\n    },\n    {\n      \"column\": \"Tipo de pagamento\",\n      \"properties\": {\n        \"dtype\": \"category\",\n        \"num_unique_values\": 4,\n        \"samples\": [\n          \"boleto\",\n          \"cartao_debito\",\n          \"cartao_credito\"\n        ],\n        \"semantic_type\": \"\",\n        \"description\": \"\"\n      }\n    },\n    {\n      \"column\": \"Quantidade de parcelas\",\n      \"properties\": {\n        \"dtype\": \"number\",\n        \"std\": 2,\n        \"min\": 1,\n        \"max\": 24,\n        \"num_unique_values\": 15,\n        \"samples\": [\n          7,\n          14,\n          8\n        ],\n        \"semantic_type\": \"\",\n        \"description\": \"\"\n      }\n    },\n    {\n      \"column\": \"lat\",\n      \"properties\": {\n        \"dtype\": \"number\",\n        \"std\": 5.372399916530833,\n        \"min\": -30.17,\n        \"max\": 1.41,\n        \"num_unique_values\": 26,\n        \"samples\": [\n          -9.46,\n          -5.81,\n          -22.19\n        ],\n        \"semantic_type\": \"\",\n        \"description\": \"\"\n      }\n    },\n    {\n      \"column\": \"lon\",\n      \"properties\": {\n        \"dtype\": \"number\",\n        \"std\": 4.183180020544179,\n        \"min\": -70.55,\n        \"max\": -36.59,\n        \"num_unique_values\": 26,\n        \"samples\": [\n          -48.26,\n          -36.59,\n          -48.79\n        ],\n        \"semantic_type\": \"\",\n        \"description\": \"\"\n      }\n    }\n  ]\n}"
            }
          },
          "metadata": {},
          "execution_count": 1
        }
      ],
      "source": [
        "import pandas as pd\n",
        "\n",
        "url1 = \"https://raw.githubusercontent.com/alura-es-cursos/challenge1-data-science/refs/heads/main/base-de-dados-challenge-1/loja_1.csv\"\n",
        "url2 = \"https://raw.githubusercontent.com/alura-es-cursos/challenge1-data-science/refs/heads/main/base-de-dados-challenge-1/loja_2.csv\"\n",
        "url3 = \"https://raw.githubusercontent.com/alura-es-cursos/challenge1-data-science/refs/heads/main/base-de-dados-challenge-1/loja_3.csv\"\n",
        "url4 = \"https://raw.githubusercontent.com/alura-es-cursos/challenge1-data-science/refs/heads/main/base-de-dados-challenge-1/loja_4.csv\"\n",
        "\n",
        "loja1 = pd.read_csv(url1)\n",
        "loja2 = pd.read_csv(url2)\n",
        "loja3 = pd.read_csv(url3)\n",
        "loja4 = pd.read_csv(url4)\n",
        "\n",
        "loja1.head()"
      ]
    },
    {
      "cell_type": "markdown",
      "source": [
        "#£ Análise das lojas"
      ],
      "metadata": {
        "id": "d9RAA5oTlvv9"
      }
    },
    {
      "cell_type": "markdown",
      "source": [
        "##1. Análise do faturamento\n"
      ],
      "metadata": {
        "id": "X62IW3KFUIYm"
      }
    },
    {
      "cell_type": "markdown",
      "source": [
        "### sub-goal: Idenficar as lojas com os maiores faturamentos."
      ],
      "metadata": {
        "id": "JGNPjXJClB92"
      }
    },
    {
      "cell_type": "code",
      "source": [
        "# Loja 1\n",
        "\n",
        "total_preco_loja1 = round(sum(loja1['Preço']), 2)\n",
        "total_frete_loja1 = round(sum(loja1['Frete']), 2)\n",
        "faturamento_loja1 = total_preco_loja1 + total_frete_loja1\n",
        "\n",
        "print(f'O montante dos produtos vendidos pela Loja 1 foi de: R${total_preco_loja1}')\n",
        "print(f'O montante dos frete cobrados pela Loja 1 foi de: R${total_frete_loja1}')\n",
        "print(f'O faturamento total da Loja 1 foi de: R${faturamento_loja1}')"
      ],
      "metadata": {
        "id": "xykobSftV64I",
        "colab": {
          "base_uri": "https://localhost:8080/"
        },
        "outputId": "3228ced5-32d2-4959-dd56-4579a916ece1"
      },
      "execution_count": 2,
      "outputs": [
        {
          "output_type": "stream",
          "name": "stdout",
          "text": [
            "O montante dos produtos vendidos pela Loja 1 foi de: R$1534509.12\n",
            "O montante dos frete cobrados pela Loja 1 foi de: R$81837.97\n",
            "O faturamento total da Loja 1 foi de: R$1616347.09\n"
          ]
        }
      ]
    },
    {
      "cell_type": "code",
      "source": [
        "# Loja 2\n",
        "\n",
        "total_preco_loja2 = round(sum(loja2['Preço']), 2)\n",
        "total_frete_loja2 = round(sum(loja2['Frete']), 2)\n",
        "faturamento_loja2 = total_preco_loja2 + total_frete_loja2\n",
        "\n",
        "print(f'O montante dos produtos vendidos pela Loja 2 foi de: R${total_preco_loja2}')\n",
        "print(f'O montante dos frete cobrados pela Loja 2 foi de: R${total_frete_loja2}')\n",
        "print(f'O faturamento total da Loja 2 foi de: R${faturamento_loja2}')"
      ],
      "metadata": {
        "colab": {
          "base_uri": "https://localhost:8080/"
        },
        "id": "Q8Rr-uPMs-iD",
        "outputId": "a633f1d6-fe54-4e67-8c27-048cb4607250"
      },
      "execution_count": 3,
      "outputs": [
        {
          "output_type": "stream",
          "name": "stdout",
          "text": [
            "O montante dos produtos vendidos pela Loja 2 foi de: R$1488459.06\n",
            "O montante dos frete cobrados pela Loja 2 foi de: R$79314.16\n",
            "O faturamento total da Loja 2 foi de: R$1567773.22\n"
          ]
        }
      ]
    },
    {
      "cell_type": "code",
      "source": [
        "# Loja 3\n",
        "\n",
        "total_preco_loja3 = round(sum(loja3['Preço']), 2)\n",
        "total_frete_loja3 = round(sum(loja3['Frete']), 2)\n",
        "faturamento_loja3 = total_preco_loja3 + total_frete_loja3\n",
        "\n",
        "print(f'O montante dos produtos vendidos pela Loja 2 foi de: R${total_preco_loja3}')\n",
        "print(f'O montante dos frete cobrados pela Loja 2 foi de: R${total_frete_loja3}')\n",
        "print(f'O faturamento total da Loja 2 foi de: R${faturamento_loja3}')"
      ],
      "metadata": {
        "colab": {
          "base_uri": "https://localhost:8080/"
        },
        "id": "gaOG2EZ3s-v7",
        "outputId": "932a743d-011e-42bd-bb4a-e8ae2bccb604"
      },
      "execution_count": 4,
      "outputs": [
        {
          "output_type": "stream",
          "name": "stdout",
          "text": [
            "O montante dos produtos vendidos pela Loja 2 foi de: R$1464025.03\n",
            "O montante dos frete cobrados pela Loja 2 foi de: R$78022.66\n",
            "O faturamento total da Loja 2 foi de: R$1542047.69\n"
          ]
        }
      ]
    },
    {
      "cell_type": "code",
      "source": [
        "# Loja 4\n",
        "\n",
        "total_preco_loja4 = round(sum(loja4['Preço']), 2)\n",
        "total_frete_loja4 = round(sum(loja4['Frete']), 2)\n",
        "faturamento_loja4 = total_preco_loja4 + total_frete_loja4\n",
        "\n",
        "print(f'O montante dos produtos vendidos pela Loja 2 foi de: R${total_preco_loja4}')\n",
        "print(f'O montante dos frete cobrados pela Loja 2 foi de: R${total_frete_loja4}')\n",
        "print(f'O faturamento total da Loja 2 foi de: R${faturamento_loja4}')"
      ],
      "metadata": {
        "colab": {
          "base_uri": "https://localhost:8080/"
        },
        "id": "JnHPHxE4s-7j",
        "outputId": "eb08b861-8a69-4446-98bd-f073ba7e76d9"
      },
      "execution_count": 5,
      "outputs": [
        {
          "output_type": "stream",
          "name": "stdout",
          "text": [
            "O montante dos produtos vendidos pela Loja 2 foi de: R$1384497.58\n",
            "O montante dos frete cobrados pela Loja 2 foi de: R$73755.88\n",
            "O faturamento total da Loja 2 foi de: R$1458253.46\n"
          ]
        }
      ]
    },
    {
      "cell_type": "code",
      "source": [
        "# Comparação\n",
        "\n",
        "comparacao_faturamento_lojas = {'Loja 1':faturamento_loja1, 'Loja 2':faturamento_loja2, 'Loja 3':faturamento_loja3, 'Loja 4':faturamento_loja4}\n",
        "comparacao_ordenada_faturamento_lojas = sorted(comparacao_faturamento_lojas.items(), key=lambda item: item[1], reverse=True)\n",
        "\n",
        "print(\"Faturamento das lojas em ordem crescente:\")\n",
        "for loja, faturamento in comparacao_ordenada_faturamento_lojas:\n",
        "    print(f'{loja}: R${faturamento}')"
      ],
      "metadata": {
        "colab": {
          "base_uri": "https://localhost:8080/"
        },
        "id": "vKHTqv31s_WC",
        "outputId": "62404d3c-1c56-41e4-fb4f-bbaf3e5a78d5"
      },
      "execution_count": 6,
      "outputs": [
        {
          "output_type": "stream",
          "name": "stdout",
          "text": [
            "Faturamento das lojas em ordem crescente:\n",
            "Loja 1: R$1616347.09\n",
            "Loja 2: R$1567773.22\n",
            "Loja 3: R$1542047.69\n",
            "Loja 4: R$1458253.46\n"
          ]
        }
      ]
    },
    {
      "cell_type": "markdown",
      "source": [
        "## 2. Vendas por Categoria\n"
      ],
      "metadata": {
        "id": "2V_vcAPzWZmR"
      }
    },
    {
      "cell_type": "markdown",
      "source": [
        "### sub-goal: Idenficar as categorias mais vendidas."
      ],
      "metadata": {
        "id": "J8hpLu7xkuWz"
      }
    },
    {
      "cell_type": "code",
      "source": [
        "# Loja 1\n",
        "\n",
        "vendas_categoria_loja1 = {}\n",
        "for categoria in loja1['Categoria do Produto']:\n",
        "  if categoria in vendas_categoria_loja1:\n",
        "    vendas_categoria_loja1[categoria] += 1\n",
        "  else:\n",
        "    vendas_categoria_loja1[categoria] = 1\n",
        "\n",
        "vendas_categoria_ordenada_loja1 = sorted(vendas_categoria_loja1.items(), key = lambda item: item[1], reverse = True)\n",
        "top_categorias_loja1 = vendas_categoria_ordenada_loja1[:3]\n",
        "\n",
        "print(top_categorias_loja1)"
      ],
      "metadata": {
        "colab": {
          "base_uri": "https://localhost:8080/"
        },
        "id": "eF3DO-9rkp7p",
        "outputId": "519efe90-5945-49b2-f614-ae06784d132f"
      },
      "execution_count": 74,
      "outputs": [
        {
          "output_type": "stream",
          "name": "stdout",
          "text": [
            "[('moveis', 465), ('eletronicos', 448), ('brinquedos', 324)]\n"
          ]
        }
      ]
    },
    {
      "cell_type": "code",
      "source": [
        "# Loja 2\n",
        "\n",
        "vendas_categoria_loja2 = {}\n",
        "for categoria in loja2['Categoria do Produto']:\n",
        "  if categoria in vendas_categoria_loja2:\n",
        "    vendas_categoria_loja2[categoria] += 1\n",
        "  else:\n",
        "    vendas_categoria_loja2[categoria] = 1\n",
        "\n",
        "vendas_categoria_ordenada_loja2 = sorted(vendas_categoria_loja2.items(), key = lambda item: item[1], reverse = True)\n",
        "top_categorias_loja2 = vendas_categoria_ordenada_loja2[:3]\n",
        "\n",
        "print(top_categorias_loja2)"
      ],
      "metadata": {
        "id": "A34YupIuYhfF",
        "colab": {
          "base_uri": "https://localhost:8080/"
        },
        "outputId": "88948162-735a-42fc-c395-4fea5b5980dc"
      },
      "execution_count": 75,
      "outputs": [
        {
          "output_type": "stream",
          "name": "stdout",
          "text": [
            "[('moveis', 442), ('eletronicos', 422), ('brinquedos', 313)]\n"
          ]
        }
      ]
    },
    {
      "cell_type": "code",
      "source": [
        "# Loja 3\n",
        "\n",
        "vendas_categoria_loja3 = {}\n",
        "for categoria in loja3['Categoria do Produto']:\n",
        "  if categoria in vendas_categoria_loja3:\n",
        "    vendas_categoria_loja3[categoria] += 1\n",
        "  else:\n",
        "    vendas_categoria_loja3[categoria] = 1\n",
        "\n",
        "vendas_categoria_ordenada_loja3 = sorted(vendas_categoria_loja3.items(), key = lambda item: item[1], reverse = True)\n",
        "top_categorias_loja3 = vendas_categoria_ordenada_loja3[:3]\n",
        "\n",
        "print(top_categorias_loja3)"
      ],
      "metadata": {
        "id": "yZR6cOjXYSk1",
        "colab": {
          "base_uri": "https://localhost:8080/"
        },
        "outputId": "df76ec15-5335-4300-ac80-49c13365466a"
      },
      "execution_count": 76,
      "outputs": [
        {
          "output_type": "stream",
          "name": "stdout",
          "text": [
            "[('moveis', 499), ('eletronicos', 451), ('brinquedos', 315)]\n"
          ]
        }
      ]
    },
    {
      "cell_type": "code",
      "source": [
        "# Loja 4\n",
        "\n",
        "vendas_categoria_loja4 = {}\n",
        "for categoria in loja4['Categoria do Produto']:\n",
        "  if categoria in vendas_categoria_loja4:\n",
        "    vendas_categoria_loja4[categoria] += 1\n",
        "  else:\n",
        "    vendas_categoria_loja4[categoria] = 1\n",
        "\n",
        "vendas_categoria_ordenada_loja4 = sorted(vendas_categoria_loja4.items(), key = lambda item: item[1], reverse = True)\n",
        "top_categorias_loja4 = vendas_categoria_ordenada_loja4[:3]\n",
        "\n",
        "print(top_categorias_loja4)"
      ],
      "metadata": {
        "colab": {
          "base_uri": "https://localhost:8080/"
        },
        "id": "RGZMGgdekuLC",
        "outputId": "0b747a77-1f9b-44a4-b86d-30b18781aa2f"
      },
      "execution_count": 77,
      "outputs": [
        {
          "output_type": "stream",
          "name": "stdout",
          "text": [
            "[('moveis', 480), ('eletronicos', 451), ('brinquedos', 338)]\n"
          ]
        }
      ]
    },
    {
      "cell_type": "code",
      "source": [
        "# Comparação\n",
        "\n",
        "comparacao_categoria_lojas = {'Loja 1':top_categorias_loja1, 'Loja 2':top_categorias_loja2, 'Loja 3':top_categorias_loja3, 'Loja 4':top_categorias_loja4}\n",
        "#ordenar\n",
        "comparacao_ordenada_categoria_lojas = sorted(comparacao_categoria_lojas.items(), key = lambda item: item[1][0][1] + item[1][1][1] + item[1][2][1], reverse = True)\n",
        "\n",
        "print(f'Das categorias mais vendidas, as lojas têm, em ordem decrescente, os seguintes resultados:')\n",
        "for loja, vendas in comparacao_ordenada_categoria_lojas:\n",
        "  print(f'{loja}: {vendas}')"
      ],
      "metadata": {
        "colab": {
          "base_uri": "https://localhost:8080/"
        },
        "id": "3e2L5jfIkuU1",
        "outputId": "2a509932-50c4-43a3-f492-23b366da9238"
      },
      "execution_count": 78,
      "outputs": [
        {
          "output_type": "stream",
          "name": "stdout",
          "text": [
            "Das categorias mais vendidas, as lojas têm, em ordem decrescente, os seguintes resultados:\n",
            "Loja 4: [('moveis', 480), ('eletronicos', 451), ('brinquedos', 338)]\n",
            "Loja 3: [('moveis', 499), ('eletronicos', 451), ('brinquedos', 315)]\n",
            "Loja 1: [('moveis', 465), ('eletronicos', 448), ('brinquedos', 324)]\n",
            "Loja 2: [('moveis', 442), ('eletronicos', 422), ('brinquedos', 313)]\n"
          ]
        }
      ]
    },
    {
      "cell_type": "markdown",
      "source": [
        "## 3. Média de Avaliação das Lojas"
      ],
      "metadata": {
        "id": "Rq6tU_xSY3jk"
      }
    },
    {
      "cell_type": "markdown",
      "source": [
        "### sub-goal: Idenficar as lojas com as melhores médias de avaliação dos clientes."
      ],
      "metadata": {
        "id": "qUMUK3MdlQO8"
      }
    },
    {
      "cell_type": "code",
      "source": [
        "# Loja 1\n",
        "\n",
        "avaliacoes_loja1 = {}\n",
        "\n",
        "for avaliacao in loja1['Avaliação da compra']:\n",
        "  if avaliacao in avaliacoes_loja1:\n",
        "    avaliacoes_loja1[avaliacao] += 1\n",
        "  else:\n",
        "    avaliacoes_loja1[avaliacao] = 1\n",
        "\n",
        "avaliacoes_ordenadas_loja1 = sorted(avaliacoes_loja1.items(), key = lambda item: item[1], reverse = True)\n",
        "\n",
        "print(f'As avaliações, em ordem decrescente, da Loja 1 são: {avaliacoes_ordenadas_loja1}')"
      ],
      "metadata": {
        "id": "bh3jjjJwY5MU",
        "colab": {
          "base_uri": "https://localhost:8080/"
        },
        "outputId": "27efe601-9f71-43ce-a164-a0c783a9fca5"
      },
      "execution_count": 54,
      "outputs": [
        {
          "output_type": "stream",
          "name": "stdout",
          "text": [
            "As avaliações, em ordem decrescente, da Loja 1 são: [(5, 1292), (4, 444), (1, 319), (3, 218), (2, 86)]\n"
          ]
        }
      ]
    },
    {
      "cell_type": "code",
      "source": [
        "# Loja 2\n",
        "\n",
        "avaliacoes_loja2 = {}\n",
        "\n",
        "for avaliacao in loja2['Avaliação da compra']:\n",
        "  if avaliacao in avaliacoes_loja2:\n",
        "    avaliacoes_loja2[avaliacao] += 1\n",
        "  else:\n",
        "    avaliacoes_loja2[avaliacao] = 1\n",
        "\n",
        "avaliacoes_ordenadas_loja2 = sorted(avaliacoes_loja2.items(), key = lambda item: item[1], reverse = True)\n",
        "\n",
        "print(f'As avaliações, em ordem decrescente, da Loja 2 são: {avaliacoes_ordenadas_loja2}')"
      ],
      "metadata": {
        "id": "I0KkjPoTY88F",
        "colab": {
          "base_uri": "https://localhost:8080/"
        },
        "outputId": "48d94652-0184-4117-cee9-d865787c499a"
      },
      "execution_count": 55,
      "outputs": [
        {
          "output_type": "stream",
          "name": "stdout",
          "text": [
            "As avaliações, em ordem decrescente, da Loja 2 são: [(5, 1302), (4, 482), (1, 273), (3, 209), (2, 93)]\n"
          ]
        }
      ]
    },
    {
      "cell_type": "code",
      "source": [
        "# Loja 3\n",
        "\n",
        "avaliacoes_loja3 = {}\n",
        "\n",
        "for avaliacao in loja3['Avaliação da compra']:\n",
        "  if avaliacao in avaliacoes_loja3:\n",
        "    avaliacoes_loja3[avaliacao] += 1\n",
        "  else:\n",
        "    avaliacoes_loja3[avaliacao] = 1\n",
        "\n",
        "avaliacoes_ordenadas_loja3 = sorted(avaliacoes_loja3.items(), key = lambda item: item[1], reverse = True)\n",
        "\n",
        "print(f'As avaliações, em ordem decrescente, da Loja 3 são: {avaliacoes_ordenadas_loja3}')"
      ],
      "metadata": {
        "id": "Sb2enZmzzlp9",
        "colab": {
          "base_uri": "https://localhost:8080/"
        },
        "outputId": "7f08d080-cf2d-4558-9563-c5eb33e6efff"
      },
      "execution_count": 56,
      "outputs": [
        {
          "output_type": "stream",
          "name": "stdout",
          "text": [
            "As avaliações, em ordem decrescente, da Loja 3 são: [(5, 1356), (4, 434), (1, 297), (3, 193), (2, 79)]\n"
          ]
        }
      ]
    },
    {
      "cell_type": "code",
      "source": [
        "# Loja 4\n",
        "\n",
        "avaliacoes_loja4 = {}\n",
        "\n",
        "for avaliacao in loja4['Avaliação da compra']:\n",
        "  if avaliacao in avaliacoes_loja4:\n",
        "    avaliacoes_loja4[avaliacao] += 1\n",
        "  else:\n",
        "    avaliacoes_loja4[avaliacao] = 1\n",
        "\n",
        "avaliacoes_ordenadas_loja4 = sorted(avaliacoes_loja4.items(), key = lambda item: item[1], reverse = True)\n",
        "\n",
        "print(f'As avaliações, em ordem decrescente, da Loja 4 são: {avaliacoes_ordenadas_loja4}')"
      ],
      "metadata": {
        "id": "MM-NkHb8zl72",
        "colab": {
          "base_uri": "https://localhost:8080/"
        },
        "outputId": "36396a92-6516-446b-8654-8b53238988d0"
      },
      "execution_count": 57,
      "outputs": [
        {
          "output_type": "stream",
          "name": "stdout",
          "text": [
            "As avaliações, em ordem decrescente, da Loja 4 são: [(5, 1300), (4, 453), (1, 310), (3, 210), (2, 85)]\n"
          ]
        }
      ]
    },
    {
      "cell_type": "code",
      "source": [
        "# Comparação\n",
        "\n",
        "comparacao_avaliacoes_lojas = {'Loja 1':avaliacoes_ordenadas_loja1, 'Loja 2': avaliacoes_ordenadas_loja2, 'Loja 3':avaliacoes_ordenadas_loja3, 'Loja 4': avaliacoes_ordenadas_loja4}\n",
        "comparacao_avaliacoes_ordenadas_lojas = sorted(comparacao_avaliacoes_lojas.items(), key = lambda item: item[1][0][1] + item[1][1][1] - item[1][2][1] - item[1][3][1] - item[1][4][1], reverse = True)\n",
        "\n",
        "print('Das avaliações dos clientes, as lojas têm, em ordem descrescente (seguindo a lógica de mais avaliações 5, 4 e menos 1, 2, 3), os seguintes resultados:')\n",
        "for loja, avaliacao in comparacao_avaliacoes_ordenadas_lojas:\n",
        "  print(f'{loja}: {avaliacao}')"
      ],
      "metadata": {
        "id": "MN79QmFnzmKz",
        "colab": {
          "base_uri": "https://localhost:8080/"
        },
        "outputId": "32cb1506-3606-4b1a-8b17-0279f5e190a6"
      },
      "execution_count": 87,
      "outputs": [
        {
          "output_type": "stream",
          "name": "stdout",
          "text": [
            "Das avaliações dos clientes, as lojas têm, em ordem descrescente (seguindo a lógica de mais avaliações 5, 4 e menos 1, 2, 3), os seguintes resultados:\n",
            "Loja 3: [(5, 1356), (4, 434), (1, 297), (3, 193), (2, 79)]\n",
            "Loja 2: [(5, 1302), (4, 482), (1, 273), (3, 209), (2, 93)]\n",
            "Loja 4: [(5, 1300), (4, 453), (1, 310), (3, 210), (2, 85)]\n",
            "Loja 1: [(5, 1292), (4, 444), (1, 319), (3, 218), (2, 86)]\n"
          ]
        }
      ]
    },
    {
      "cell_type": "markdown",
      "source": [
        "## 4. Produtos Mais e Menos Vendidos"
      ],
      "metadata": {
        "id": "DmNp1KPBZCm-"
      }
    },
    {
      "cell_type": "markdown",
      "source": [
        "### sub-goal: Idenficar os produtos menos e mais vendidos."
      ],
      "metadata": {
        "id": "hg-cB3GUlYje"
      }
    },
    {
      "cell_type": "code",
      "source": [
        "# Loja 1\n",
        "\n",
        "vendas_produtos_loja1 = {}\n",
        "\n",
        "for produto in loja1['Produto']:\n",
        "  if produto in vendas_produtos_loja1:\n",
        "    vendas_produtos_loja1[produto] += 1\n",
        "  else:\n",
        "    vendas_produtos_loja1[produto] = 1\n",
        "\n",
        "vendas_produtos_ordenada_loja1 = sorted(vendas_produtos_loja1.items(), key = lambda item: item[1], reverse = True)\n",
        "\n",
        "top_vendas_produtos_loja1 = vendas_produtos_ordenada_loja1[:3]\n",
        "bottom_vendas_produtos_loja1 = vendas_produtos_ordenada_loja1[-3:]\n",
        "\n",
        "print(f'Produtos mais vendidos na Loja 1: {top_vendas_produtos_loja1}')\n",
        "print(f'Produtos menos vendidos na Loja 1: {bottom_vendas_produtos_loja1}')"
      ],
      "metadata": {
        "id": "qoyjqijQZHfF",
        "colab": {
          "base_uri": "https://localhost:8080/"
        },
        "outputId": "f862ec8e-5622-49c9-98ad-bd5c20c7f426"
      },
      "execution_count": 83,
      "outputs": [
        {
          "output_type": "stream",
          "name": "stdout",
          "text": [
            "Produtos mais vendidos na Loja 1: [('Micro-ondas', 60), ('TV Led UHD 4K', 60), ('Guarda roupas', 60)]\n",
            "Produtos menos vendidos na Loja 1: [('Panela de pressão', 35), ('Headset', 33), ('Celular ABXY', 33)]\n"
          ]
        }
      ]
    },
    {
      "cell_type": "code",
      "source": [
        "# Loja 2\n",
        "\n",
        "vendas_produtos_loja2 = {}\n",
        "\n",
        "for produto in loja2['Produto']:\n",
        "  if produto in vendas_produtos_loja2:\n",
        "    vendas_produtos_loja2[produto] += 1\n",
        "  else:\n",
        "    vendas_produtos_loja2[produto] = 1\n",
        "\n",
        "vendas_produtos_ordenada_loja2 = sorted(vendas_produtos_loja2.items(), key = lambda item: item[1], reverse = True)\n",
        "\n",
        "top_vendas_produtos_loja2 = vendas_produtos_ordenada_loja2[:3]\n",
        "bottom_vendas_produtos_loja2 = vendas_produtos_ordenada_loja2[-3:]\n",
        "\n",
        "print(f'Produtos mais vendidos na Loja 2: {top_vendas_produtos_loja2}')\n",
        "print(f'Produtos menos vendidos na Loja 2: {bottom_vendas_produtos_loja2}')"
      ],
      "metadata": {
        "id": "0Sw3sd4IZIGW",
        "colab": {
          "base_uri": "https://localhost:8080/"
        },
        "outputId": "ad2aff86-d5bc-496c-f8cf-5ec3666dec32"
      },
      "execution_count": 84,
      "outputs": [
        {
          "output_type": "stream",
          "name": "stdout",
          "text": [
            "Produtos mais vendidos na Loja 2: [('Iniciando em programação', 65), ('Micro-ondas', 62), ('Bateria', 61)]\n",
            "Produtos menos vendidos na Loja 2: [('Mesa de jantar', 34), ('Impressora', 34), ('Jogo de tabuleiro', 32)]\n"
          ]
        }
      ]
    },
    {
      "cell_type": "code",
      "source": [
        "# Loja 3\n",
        "\n",
        "vendas_produtos_loja3 = {}\n",
        "\n",
        "for produto in loja3['Produto']:\n",
        "  if produto in vendas_produtos_loja3:\n",
        "    vendas_produtos_loja3[produto] += 1\n",
        "  else:\n",
        "    vendas_produtos_loja3[produto] = 1\n",
        "\n",
        "vendas_produtos_ordenada_loja3 = sorted(vendas_produtos_loja3.items(), key = lambda item: item[1], reverse = True)\n",
        "\n",
        "top_vendas_produtos_loja3 = vendas_produtos_ordenada_loja3[:3]\n",
        "bottom_vendas_produtos_loja3 = vendas_produtos_ordenada_loja3[-3:]\n",
        "\n",
        "print(f'Produtos mais vendidos na Loja 3: {top_vendas_produtos_loja3}')\n",
        "print(f'Produtos menos vendidos na Loja 3: {bottom_vendas_produtos_loja3}')"
      ],
      "metadata": {
        "colab": {
          "base_uri": "https://localhost:8080/"
        },
        "id": "HuHEi5zdfZSn",
        "outputId": "c948675e-343d-4703-9902-d1391a59e459"
      },
      "execution_count": 85,
      "outputs": [
        {
          "output_type": "stream",
          "name": "stdout",
          "text": [
            "Produtos mais vendidos na Loja 3: [('Kit banquetas', 57), ('Mesa de jantar', 56), ('Cama king', 56)]\n",
            "Produtos menos vendidos na Loja 3: [('Mochila', 36), ('Micro-ondas', 36), ('Blocos de montar', 35)]\n"
          ]
        }
      ]
    },
    {
      "cell_type": "code",
      "source": [
        "# Loja 4\n",
        "\n",
        "vendas_produtos_loja4 = {}\n",
        "\n",
        "for produto in loja4['Produto']:\n",
        "  if produto in vendas_produtos_loja4:\n",
        "    vendas_produtos_loja4[produto] += 1\n",
        "  else:\n",
        "    vendas_produtos_loja4[produto] = 1\n",
        "\n",
        "vendas_produtos_ordenada_loja4 = sorted(vendas_produtos_loja4.items(), key = lambda item: item[1], reverse = True)\n",
        "\n",
        "top_vendas_produtos_loja4 = vendas_produtos_ordenada_loja4[:3]\n",
        "bottom_vendas_produtos_loja4 = vendas_produtos_ordenada_loja4[-3:]\n",
        "\n",
        "print(f'Produtos mais vendidos na Loja 4: {top_vendas_produtos_loja4}')\n",
        "print(f'Produtos menos vendidos na Loja 4: {bottom_vendas_produtos_loja4}')"
      ],
      "metadata": {
        "colab": {
          "base_uri": "https://localhost:8080/"
        },
        "id": "WU65-5pafZdk",
        "outputId": "4e9d3c93-325b-4216-e2a7-d3a03a77fe1d"
      },
      "execution_count": 86,
      "outputs": [
        {
          "output_type": "stream",
          "name": "stdout",
          "text": [
            "Produtos mais vendidos na Loja 4: [('Cama box', 62), ('Faqueiro', 59), ('Dashboards com Power BI', 56)]\n",
            "Produtos menos vendidos na Loja 4: [('Violão', 37), ('Guarda roupas', 34), ('Guitarra', 33)]\n"
          ]
        }
      ]
    },
    {
      "cell_type": "code",
      "source": [
        "# Comparação\n",
        "\n",
        "comparacao_top_vendas_lojas = {'Loja 1': top_vendas_produtos_loja1, 'Loja 2': top_vendas_produtos_loja2, 'Loja 3': top_vendas_produtos_loja3, 'Loja 4': top_vendas_produtos_loja4}\n",
        "comparacao_bottom_vendas_lojas = {'Loja 1': bottom_vendas_produtos_loja1, 'Loja 2': bottom_vendas_produtos_loja2, 'Loja 3': bottom_vendas_produtos_loja3, 'Loja 4': bottom_vendas_produtos_loja4}\n",
        "\n",
        "print('Os três produtos mais vendidos em cada loja são:')\n",
        "for item in comparacao_top_vendas_lojas.items():\n",
        "  print(f'{item[0]}: {item[1]}')\n",
        "\n",
        "print()\n",
        "\n",
        "print('Os três produtos menos vendidos em cada loja são:')\n",
        "for item in comparacao_bottom_vendas_lojas.items():\n",
        "  print(f'{item[0]}: {item[1]}')"
      ],
      "metadata": {
        "colab": {
          "base_uri": "https://localhost:8080/"
        },
        "id": "73kThb34fZpJ",
        "outputId": "8c9bfec9-de40-479e-b67a-f5041299f282"
      },
      "execution_count": 90,
      "outputs": [
        {
          "output_type": "stream",
          "name": "stdout",
          "text": [
            "Os três produtos mais vendidos em cada loja são:\n",
            "Loja 1: [('Micro-ondas', 60), ('TV Led UHD 4K', 60), ('Guarda roupas', 60)]\n",
            "Loja 2: [('Iniciando em programação', 65), ('Micro-ondas', 62), ('Bateria', 61)]\n",
            "Loja 3: [('Kit banquetas', 57), ('Mesa de jantar', 56), ('Cama king', 56)]\n",
            "Loja 4: [('Cama box', 62), ('Faqueiro', 59), ('Dashboards com Power BI', 56)]\n",
            "\n",
            "Os três produtos menos vendidos em cada loja são:\n",
            "Loja 1: [('Panela de pressão', 35), ('Headset', 33), ('Celular ABXY', 33)]\n",
            "Loja 2: [('Mesa de jantar', 34), ('Impressora', 34), ('Jogo de tabuleiro', 32)]\n",
            "Loja 3: [('Mochila', 36), ('Micro-ondas', 36), ('Blocos de montar', 35)]\n",
            "Loja 4: [('Violão', 37), ('Guarda roupas', 34), ('Guitarra', 33)]\n"
          ]
        }
      ]
    },
    {
      "cell_type": "markdown",
      "source": [
        "## 5. Frete Médio por Loja\n"
      ],
      "metadata": {
        "id": "Fl0cGi3bZKqU"
      }
    },
    {
      "cell_type": "markdown",
      "source": [
        "### sub-goal: Idenficar o valor de frete médio por loja."
      ],
      "metadata": {
        "id": "K0GfxkaNleSk"
      }
    },
    {
      "cell_type": "code",
      "source": [
        "# Loja 1\n"
      ],
      "metadata": {
        "id": "S2JeaCykZNy9"
      },
      "execution_count": 91,
      "outputs": []
    },
    {
      "cell_type": "code",
      "source": [
        "# Loja 2\n"
      ],
      "metadata": {
        "id": "0tSdCie9ZQlt"
      },
      "execution_count": null,
      "outputs": []
    },
    {
      "cell_type": "code",
      "source": [
        "# Loja 3\n"
      ],
      "metadata": {
        "id": "4u2OVw3ftZKs"
      },
      "execution_count": null,
      "outputs": []
    },
    {
      "cell_type": "code",
      "source": [
        "# Loja 4\n"
      ],
      "metadata": {
        "id": "8B20vr2htZBp"
      },
      "execution_count": null,
      "outputs": []
    },
    {
      "cell_type": "code",
      "source": [
        "# Comparação\n"
      ],
      "metadata": {
        "id": "LMAgh51StY6B"
      },
      "execution_count": null,
      "outputs": []
    },
    {
      "cell_type": "markdown",
      "source": [
        "#£ Relatório da análise"
      ],
      "metadata": {
        "id": "Vd_oyw_PjdSY"
      }
    },
    {
      "cell_type": "markdown",
      "source": [
        "##Criação dos gráficos para visualização:"
      ],
      "metadata": {
        "id": "9AtwbyULjjEo"
      }
    },
    {
      "cell_type": "markdown",
      "source": [
        "*    Decida quais tipos de gráficos usar para apresentar os resultados de maneira clara e visual.\n",
        "*\n",
        "*    Mínimo de 3 gráficos diferentes, que podem incluir gráficos de barras, pizza, dispersão, entre outros.\n",
        "\n",
        "\n",
        "\n"
      ],
      "metadata": {
        "id": "eLa0y2MjmI74"
      }
    },
    {
      "cell_type": "code",
      "source": [],
      "metadata": {
        "id": "g8TwXzUvjjeK"
      },
      "execution_count": null,
      "outputs": []
    },
    {
      "cell_type": "markdown",
      "source": [
        "#£ Recomendação"
      ],
      "metadata": {
        "id": "02YMTuukmeZS"
      }
    },
    {
      "cell_type": "markdown",
      "source": [
        "###Após as análises, escreva um texto explicando, com base nos dados apresentados, qual loja o Senhor João deve vender e porquê."
      ],
      "metadata": {
        "id": "DqtPWn4jmgM5"
      }
    },
    {
      "cell_type": "markdown",
      "source": [],
      "metadata": {
        "id": "NR7DAkOKnHf2"
      }
    },
    {
      "cell_type": "code",
      "source": [],
      "metadata": {
        "id": "d_VPcfsZnIST"
      },
      "execution_count": null,
      "outputs": []
    }
  ]
}