{
  "nbformat": 4,
  "nbformat_minor": 0,
  "metadata": {
    "colab": {
      "provenance": [],
      "collapsed_sections": [
        "RhEdWd9YUR6H",
        "X62IW3KFUIYm",
        "2V_vcAPzWZmR",
        "DmNp1KPBZCm-",
        "Fl0cGi3bZKqU",
        "02YMTuukmeZS",
        "DqtPWn4jmgM5"
      ],
      "include_colab_link": true
    },
    "kernelspec": {
      "name": "python3",
      "display_name": "Python 3"
    },
    "language_info": {
      "name": "python"
    }
  },
  "cells": [
    {
      "cell_type": "markdown",
      "metadata": {
        "id": "view-in-github",
        "colab_type": "text"
      },
      "source": [
        "<a href=\"https://colab.research.google.com/github/gabriel-schineider/challenge-alura-store/blob/main/AluraStoreBr.ipynb\" target=\"_parent\"><img src=\"https://colab.research.google.com/assets/colab-badge.svg\" alt=\"Open In Colab\"/></a>"
      ]
    },
    {
      "cell_type": "markdown",
      "source": [
        "### Importação dos dados\n",
        "\n"
      ],
      "metadata": {
        "id": "RhEdWd9YUR6H"
      }
    },
    {
      "cell_type": "code",
      "execution_count": 1,
      "metadata": {
        "colab": {
          "base_uri": "https://localhost:8080/",
          "height": 0
        },
        "id": "T3EvaeQ_INIL",
        "outputId": "13d08e89-6315-4811-ea50-517cc9e22039"
      },
      "outputs": [
        {
          "output_type": "execute_result",
          "data": {
            "text/plain": [
              "                 Produto Categoria do Produto    Preço      Frete  \\\n",
              "0     Assistente virtual          eletronicos   219.08   9.249790   \n",
              "1         Mesa de jantar               moveis   256.35  11.234305   \n",
              "2      Jogo de tabuleiro           brinquedos   279.51  21.262681   \n",
              "3            Micro-ondas     eletrodomesticos  1009.99  54.667344   \n",
              "4  Cadeira de escritório               moveis   446.99  26.964689   \n",
              "\n",
              "  Data da Compra        Vendedor Local da compra  Avaliação da compra  \\\n",
              "0     16/01/2021     Pedro Gomes              SP                    4   \n",
              "1     18/05/2022  Beatriz Moraes              RJ                    1   \n",
              "2     15/03/2021      João Souza              DF                    1   \n",
              "3     03/05/2022      João Souza              RS                    4   \n",
              "4     07/11/2020   Larissa Alves              MG                    5   \n",
              "\n",
              "  Tipo de pagamento  Quantidade de parcelas    lat    lon  \n",
              "0    cartao_credito                       8 -22.19 -48.79  \n",
              "1    cartao_credito                       4 -22.25 -42.66  \n",
              "2    cartao_credito                       1 -15.83 -47.86  \n",
              "3            boleto                       1 -30.17 -53.50  \n",
              "4            boleto                       1 -18.10 -44.38  "
            ],
            "text/html": [
              "\n",
              "  <div id=\"df-494b545d-8699-48dd-9378-409b1e3aa226\" class=\"colab-df-container\">\n",
              "    <div>\n",
              "<style scoped>\n",
              "    .dataframe tbody tr th:only-of-type {\n",
              "        vertical-align: middle;\n",
              "    }\n",
              "\n",
              "    .dataframe tbody tr th {\n",
              "        vertical-align: top;\n",
              "    }\n",
              "\n",
              "    .dataframe thead th {\n",
              "        text-align: right;\n",
              "    }\n",
              "</style>\n",
              "<table border=\"1\" class=\"dataframe\">\n",
              "  <thead>\n",
              "    <tr style=\"text-align: right;\">\n",
              "      <th></th>\n",
              "      <th>Produto</th>\n",
              "      <th>Categoria do Produto</th>\n",
              "      <th>Preço</th>\n",
              "      <th>Frete</th>\n",
              "      <th>Data da Compra</th>\n",
              "      <th>Vendedor</th>\n",
              "      <th>Local da compra</th>\n",
              "      <th>Avaliação da compra</th>\n",
              "      <th>Tipo de pagamento</th>\n",
              "      <th>Quantidade de parcelas</th>\n",
              "      <th>lat</th>\n",
              "      <th>lon</th>\n",
              "    </tr>\n",
              "  </thead>\n",
              "  <tbody>\n",
              "    <tr>\n",
              "      <th>0</th>\n",
              "      <td>Assistente virtual</td>\n",
              "      <td>eletronicos</td>\n",
              "      <td>219.08</td>\n",
              "      <td>9.249790</td>\n",
              "      <td>16/01/2021</td>\n",
              "      <td>Pedro Gomes</td>\n",
              "      <td>SP</td>\n",
              "      <td>4</td>\n",
              "      <td>cartao_credito</td>\n",
              "      <td>8</td>\n",
              "      <td>-22.19</td>\n",
              "      <td>-48.79</td>\n",
              "    </tr>\n",
              "    <tr>\n",
              "      <th>1</th>\n",
              "      <td>Mesa de jantar</td>\n",
              "      <td>moveis</td>\n",
              "      <td>256.35</td>\n",
              "      <td>11.234305</td>\n",
              "      <td>18/05/2022</td>\n",
              "      <td>Beatriz Moraes</td>\n",
              "      <td>RJ</td>\n",
              "      <td>1</td>\n",
              "      <td>cartao_credito</td>\n",
              "      <td>4</td>\n",
              "      <td>-22.25</td>\n",
              "      <td>-42.66</td>\n",
              "    </tr>\n",
              "    <tr>\n",
              "      <th>2</th>\n",
              "      <td>Jogo de tabuleiro</td>\n",
              "      <td>brinquedos</td>\n",
              "      <td>279.51</td>\n",
              "      <td>21.262681</td>\n",
              "      <td>15/03/2021</td>\n",
              "      <td>João Souza</td>\n",
              "      <td>DF</td>\n",
              "      <td>1</td>\n",
              "      <td>cartao_credito</td>\n",
              "      <td>1</td>\n",
              "      <td>-15.83</td>\n",
              "      <td>-47.86</td>\n",
              "    </tr>\n",
              "    <tr>\n",
              "      <th>3</th>\n",
              "      <td>Micro-ondas</td>\n",
              "      <td>eletrodomesticos</td>\n",
              "      <td>1009.99</td>\n",
              "      <td>54.667344</td>\n",
              "      <td>03/05/2022</td>\n",
              "      <td>João Souza</td>\n",
              "      <td>RS</td>\n",
              "      <td>4</td>\n",
              "      <td>boleto</td>\n",
              "      <td>1</td>\n",
              "      <td>-30.17</td>\n",
              "      <td>-53.50</td>\n",
              "    </tr>\n",
              "    <tr>\n",
              "      <th>4</th>\n",
              "      <td>Cadeira de escritório</td>\n",
              "      <td>moveis</td>\n",
              "      <td>446.99</td>\n",
              "      <td>26.964689</td>\n",
              "      <td>07/11/2020</td>\n",
              "      <td>Larissa Alves</td>\n",
              "      <td>MG</td>\n",
              "      <td>5</td>\n",
              "      <td>boleto</td>\n",
              "      <td>1</td>\n",
              "      <td>-18.10</td>\n",
              "      <td>-44.38</td>\n",
              "    </tr>\n",
              "  </tbody>\n",
              "</table>\n",
              "</div>\n",
              "    <div class=\"colab-df-buttons\">\n",
              "\n",
              "  <div class=\"colab-df-container\">\n",
              "    <button class=\"colab-df-convert\" onclick=\"convertToInteractive('df-494b545d-8699-48dd-9378-409b1e3aa226')\"\n",
              "            title=\"Convert this dataframe to an interactive table.\"\n",
              "            style=\"display:none;\">\n",
              "\n",
              "  <svg xmlns=\"http://www.w3.org/2000/svg\" height=\"24px\" viewBox=\"0 -960 960 960\">\n",
              "    <path d=\"M120-120v-720h720v720H120Zm60-500h600v-160H180v160Zm220 220h160v-160H400v160Zm0 220h160v-160H400v160ZM180-400h160v-160H180v160Zm440 0h160v-160H620v160ZM180-180h160v-160H180v160Zm440 0h160v-160H620v160Z\"/>\n",
              "  </svg>\n",
              "    </button>\n",
              "\n",
              "  <style>\n",
              "    .colab-df-container {\n",
              "      display:flex;\n",
              "      gap: 12px;\n",
              "    }\n",
              "\n",
              "    .colab-df-convert {\n",
              "      background-color: #E8F0FE;\n",
              "      border: none;\n",
              "      border-radius: 50%;\n",
              "      cursor: pointer;\n",
              "      display: none;\n",
              "      fill: #1967D2;\n",
              "      height: 32px;\n",
              "      padding: 0 0 0 0;\n",
              "      width: 32px;\n",
              "    }\n",
              "\n",
              "    .colab-df-convert:hover {\n",
              "      background-color: #E2EBFA;\n",
              "      box-shadow: 0px 1px 2px rgba(60, 64, 67, 0.3), 0px 1px 3px 1px rgba(60, 64, 67, 0.15);\n",
              "      fill: #174EA6;\n",
              "    }\n",
              "\n",
              "    .colab-df-buttons div {\n",
              "      margin-bottom: 4px;\n",
              "    }\n",
              "\n",
              "    [theme=dark] .colab-df-convert {\n",
              "      background-color: #3B4455;\n",
              "      fill: #D2E3FC;\n",
              "    }\n",
              "\n",
              "    [theme=dark] .colab-df-convert:hover {\n",
              "      background-color: #434B5C;\n",
              "      box-shadow: 0px 1px 3px 1px rgba(0, 0, 0, 0.15);\n",
              "      filter: drop-shadow(0px 1px 2px rgba(0, 0, 0, 0.3));\n",
              "      fill: #FFFFFF;\n",
              "    }\n",
              "  </style>\n",
              "\n",
              "    <script>\n",
              "      const buttonEl =\n",
              "        document.querySelector('#df-494b545d-8699-48dd-9378-409b1e3aa226 button.colab-df-convert');\n",
              "      buttonEl.style.display =\n",
              "        google.colab.kernel.accessAllowed ? 'block' : 'none';\n",
              "\n",
              "      async function convertToInteractive(key) {\n",
              "        const element = document.querySelector('#df-494b545d-8699-48dd-9378-409b1e3aa226');\n",
              "        const dataTable =\n",
              "          await google.colab.kernel.invokeFunction('convertToInteractive',\n",
              "                                                    [key], {});\n",
              "        if (!dataTable) return;\n",
              "\n",
              "        const docLinkHtml = 'Like what you see? Visit the ' +\n",
              "          '<a target=\"_blank\" href=https://colab.research.google.com/notebooks/data_table.ipynb>data table notebook</a>'\n",
              "          + ' to learn more about interactive tables.';\n",
              "        element.innerHTML = '';\n",
              "        dataTable['output_type'] = 'display_data';\n",
              "        await google.colab.output.renderOutput(dataTable, element);\n",
              "        const docLink = document.createElement('div');\n",
              "        docLink.innerHTML = docLinkHtml;\n",
              "        element.appendChild(docLink);\n",
              "      }\n",
              "    </script>\n",
              "  </div>\n",
              "\n",
              "\n",
              "    <div id=\"df-7c7fa713-8294-40be-9b6c-0c04f5bfafba\">\n",
              "      <button class=\"colab-df-quickchart\" onclick=\"quickchart('df-7c7fa713-8294-40be-9b6c-0c04f5bfafba')\"\n",
              "                title=\"Suggest charts\"\n",
              "                style=\"display:none;\">\n",
              "\n",
              "<svg xmlns=\"http://www.w3.org/2000/svg\" height=\"24px\"viewBox=\"0 0 24 24\"\n",
              "     width=\"24px\">\n",
              "    <g>\n",
              "        <path d=\"M19 3H5c-1.1 0-2 .9-2 2v14c0 1.1.9 2 2 2h14c1.1 0 2-.9 2-2V5c0-1.1-.9-2-2-2zM9 17H7v-7h2v7zm4 0h-2V7h2v10zm4 0h-2v-4h2v4z\"/>\n",
              "    </g>\n",
              "</svg>\n",
              "      </button>\n",
              "\n",
              "<style>\n",
              "  .colab-df-quickchart {\n",
              "      --bg-color: #E8F0FE;\n",
              "      --fill-color: #1967D2;\n",
              "      --hover-bg-color: #E2EBFA;\n",
              "      --hover-fill-color: #174EA6;\n",
              "      --disabled-fill-color: #AAA;\n",
              "      --disabled-bg-color: #DDD;\n",
              "  }\n",
              "\n",
              "  [theme=dark] .colab-df-quickchart {\n",
              "      --bg-color: #3B4455;\n",
              "      --fill-color: #D2E3FC;\n",
              "      --hover-bg-color: #434B5C;\n",
              "      --hover-fill-color: #FFFFFF;\n",
              "      --disabled-bg-color: #3B4455;\n",
              "      --disabled-fill-color: #666;\n",
              "  }\n",
              "\n",
              "  .colab-df-quickchart {\n",
              "    background-color: var(--bg-color);\n",
              "    border: none;\n",
              "    border-radius: 50%;\n",
              "    cursor: pointer;\n",
              "    display: none;\n",
              "    fill: var(--fill-color);\n",
              "    height: 32px;\n",
              "    padding: 0;\n",
              "    width: 32px;\n",
              "  }\n",
              "\n",
              "  .colab-df-quickchart:hover {\n",
              "    background-color: var(--hover-bg-color);\n",
              "    box-shadow: 0 1px 2px rgba(60, 64, 67, 0.3), 0 1px 3px 1px rgba(60, 64, 67, 0.15);\n",
              "    fill: var(--button-hover-fill-color);\n",
              "  }\n",
              "\n",
              "  .colab-df-quickchart-complete:disabled,\n",
              "  .colab-df-quickchart-complete:disabled:hover {\n",
              "    background-color: var(--disabled-bg-color);\n",
              "    fill: var(--disabled-fill-color);\n",
              "    box-shadow: none;\n",
              "  }\n",
              "\n",
              "  .colab-df-spinner {\n",
              "    border: 2px solid var(--fill-color);\n",
              "    border-color: transparent;\n",
              "    border-bottom-color: var(--fill-color);\n",
              "    animation:\n",
              "      spin 1s steps(1) infinite;\n",
              "  }\n",
              "\n",
              "  @keyframes spin {\n",
              "    0% {\n",
              "      border-color: transparent;\n",
              "      border-bottom-color: var(--fill-color);\n",
              "      border-left-color: var(--fill-color);\n",
              "    }\n",
              "    20% {\n",
              "      border-color: transparent;\n",
              "      border-left-color: var(--fill-color);\n",
              "      border-top-color: var(--fill-color);\n",
              "    }\n",
              "    30% {\n",
              "      border-color: transparent;\n",
              "      border-left-color: var(--fill-color);\n",
              "      border-top-color: var(--fill-color);\n",
              "      border-right-color: var(--fill-color);\n",
              "    }\n",
              "    40% {\n",
              "      border-color: transparent;\n",
              "      border-right-color: var(--fill-color);\n",
              "      border-top-color: var(--fill-color);\n",
              "    }\n",
              "    60% {\n",
              "      border-color: transparent;\n",
              "      border-right-color: var(--fill-color);\n",
              "    }\n",
              "    80% {\n",
              "      border-color: transparent;\n",
              "      border-right-color: var(--fill-color);\n",
              "      border-bottom-color: var(--fill-color);\n",
              "    }\n",
              "    90% {\n",
              "      border-color: transparent;\n",
              "      border-bottom-color: var(--fill-color);\n",
              "    }\n",
              "  }\n",
              "</style>\n",
              "\n",
              "      <script>\n",
              "        async function quickchart(key) {\n",
              "          const quickchartButtonEl =\n",
              "            document.querySelector('#' + key + ' button');\n",
              "          quickchartButtonEl.disabled = true;  // To prevent multiple clicks.\n",
              "          quickchartButtonEl.classList.add('colab-df-spinner');\n",
              "          try {\n",
              "            const charts = await google.colab.kernel.invokeFunction(\n",
              "                'suggestCharts', [key], {});\n",
              "          } catch (error) {\n",
              "            console.error('Error during call to suggestCharts:', error);\n",
              "          }\n",
              "          quickchartButtonEl.classList.remove('colab-df-spinner');\n",
              "          quickchartButtonEl.classList.add('colab-df-quickchart-complete');\n",
              "        }\n",
              "        (() => {\n",
              "          let quickchartButtonEl =\n",
              "            document.querySelector('#df-7c7fa713-8294-40be-9b6c-0c04f5bfafba button');\n",
              "          quickchartButtonEl.style.display =\n",
              "            google.colab.kernel.accessAllowed ? 'block' : 'none';\n",
              "        })();\n",
              "      </script>\n",
              "    </div>\n",
              "\n",
              "    </div>\n",
              "  </div>\n"
            ],
            "application/vnd.google.colaboratory.intrinsic+json": {
              "type": "dataframe",
              "variable_name": "loja1",
              "summary": "{\n  \"name\": \"loja1\",\n  \"rows\": 2359,\n  \"fields\": [\n    {\n      \"column\": \"Produto\",\n      \"properties\": {\n        \"dtype\": \"category\",\n        \"num_unique_values\": 51,\n        \"samples\": [\n          \"Viol\\u00e3o\",\n          \"Bola de basquete\",\n          \"Smartwatch\"\n        ],\n        \"semantic_type\": \"\",\n        \"description\": \"\"\n      }\n    },\n    {\n      \"column\": \"Categoria do Produto\",\n      \"properties\": {\n        \"dtype\": \"category\",\n        \"num_unique_values\": 8,\n        \"samples\": [\n          \"moveis\",\n          \"esporte e lazer\",\n          \"eletronicos\"\n        ],\n        \"semantic_type\": \"\",\n        \"description\": \"\"\n      }\n    },\n    {\n      \"column\": \"Pre\\u00e7o\",\n      \"properties\": {\n        \"dtype\": \"number\",\n        \"std\": 819.5827782539145,\n        \"min\": 10.07,\n        \"max\": 3969.38,\n        \"num_unique_values\": 2315,\n        \"samples\": [\n          446.11,\n          107.31,\n          65.86\n        ],\n        \"semantic_type\": \"\",\n        \"description\": \"\"\n      }\n    },\n    {\n      \"column\": \"Frete\",\n      \"properties\": {\n        \"dtype\": \"number\",\n        \"std\": 43.814183327408166,\n        \"min\": 0.0,\n        \"max\": 214.3770604781,\n        \"num_unique_values\": 2149,\n        \"samples\": [\n          83.815279607,\n          16.069664669,\n          14.0344876928\n        ],\n        \"semantic_type\": \"\",\n        \"description\": \"\"\n      }\n    },\n    {\n      \"column\": \"Data da Compra\",\n      \"properties\": {\n        \"dtype\": \"object\",\n        \"num_unique_values\": 1018,\n        \"samples\": [\n          \"15/09/2022\",\n          \"03/06/2020\",\n          \"06/11/2021\"\n        ],\n        \"semantic_type\": \"\",\n        \"description\": \"\"\n      }\n    },\n    {\n      \"column\": \"Vendedor\",\n      \"properties\": {\n        \"dtype\": \"category\",\n        \"num_unique_values\": 14,\n        \"samples\": [\n          \"Juliana Costa\",\n          \"Mariana Ferreira\",\n          \"Pedro Gomes\"\n        ],\n        \"semantic_type\": \"\",\n        \"description\": \"\"\n      }\n    },\n    {\n      \"column\": \"Local da compra\",\n      \"properties\": {\n        \"dtype\": \"category\",\n        \"num_unique_values\": 26,\n        \"samples\": [\n          \"TO\",\n          \"RN\",\n          \"SP\"\n        ],\n        \"semantic_type\": \"\",\n        \"description\": \"\"\n      }\n    },\n    {\n      \"column\": \"Avalia\\u00e7\\u00e3o da compra\",\n      \"properties\": {\n        \"dtype\": \"number\",\n        \"std\": 1,\n        \"min\": 1,\n        \"max\": 5,\n        \"num_unique_values\": 5,\n        \"samples\": [\n          1,\n          2,\n          5\n        ],\n        \"semantic_type\": \"\",\n        \"description\": \"\"\n      }\n    },\n    {\n      \"column\": \"Tipo de pagamento\",\n      \"properties\": {\n        \"dtype\": \"category\",\n        \"num_unique_values\": 4,\n        \"samples\": [\n          \"boleto\",\n          \"cartao_debito\",\n          \"cartao_credito\"\n        ],\n        \"semantic_type\": \"\",\n        \"description\": \"\"\n      }\n    },\n    {\n      \"column\": \"Quantidade de parcelas\",\n      \"properties\": {\n        \"dtype\": \"number\",\n        \"std\": 2,\n        \"min\": 1,\n        \"max\": 24,\n        \"num_unique_values\": 15,\n        \"samples\": [\n          7,\n          14,\n          8\n        ],\n        \"semantic_type\": \"\",\n        \"description\": \"\"\n      }\n    },\n    {\n      \"column\": \"lat\",\n      \"properties\": {\n        \"dtype\": \"number\",\n        \"std\": 5.372399916530833,\n        \"min\": -30.17,\n        \"max\": 1.41,\n        \"num_unique_values\": 26,\n        \"samples\": [\n          -9.46,\n          -5.81,\n          -22.19\n        ],\n        \"semantic_type\": \"\",\n        \"description\": \"\"\n      }\n    },\n    {\n      \"column\": \"lon\",\n      \"properties\": {\n        \"dtype\": \"number\",\n        \"std\": 4.183180020544179,\n        \"min\": -70.55,\n        \"max\": -36.59,\n        \"num_unique_values\": 26,\n        \"samples\": [\n          -48.26,\n          -36.59,\n          -48.79\n        ],\n        \"semantic_type\": \"\",\n        \"description\": \"\"\n      }\n    }\n  ]\n}"
            }
          },
          "metadata": {},
          "execution_count": 1
        }
      ],
      "source": [
        "import pandas as pd\n",
        "\n",
        "url1 = \"https://raw.githubusercontent.com/alura-es-cursos/challenge1-data-science/refs/heads/main/base-de-dados-challenge-1/loja_1.csv\"\n",
        "url2 = \"https://raw.githubusercontent.com/alura-es-cursos/challenge1-data-science/refs/heads/main/base-de-dados-challenge-1/loja_2.csv\"\n",
        "url3 = \"https://raw.githubusercontent.com/alura-es-cursos/challenge1-data-science/refs/heads/main/base-de-dados-challenge-1/loja_3.csv\"\n",
        "url4 = \"https://raw.githubusercontent.com/alura-es-cursos/challenge1-data-science/refs/heads/main/base-de-dados-challenge-1/loja_4.csv\"\n",
        "\n",
        "loja1 = pd.read_csv(url1)\n",
        "loja2 = pd.read_csv(url2)\n",
        "loja3 = pd.read_csv(url3)\n",
        "loja4 = pd.read_csv(url4)\n",
        "\n",
        "loja1.head()"
      ]
    },
    {
      "cell_type": "markdown",
      "source": [
        "#£ Análise das lojas"
      ],
      "metadata": {
        "id": "d9RAA5oTlvv9"
      }
    },
    {
      "cell_type": "markdown",
      "source": [
        "##1. Análise do faturamento\n"
      ],
      "metadata": {
        "id": "X62IW3KFUIYm"
      }
    },
    {
      "cell_type": "markdown",
      "source": [
        "### sub-goal: Idenficar as lojas com os maiores faturamentos."
      ],
      "metadata": {
        "id": "JGNPjXJClB92"
      }
    },
    {
      "cell_type": "code",
      "source": [
        "# Loja 1\n",
        "\n",
        "faturamento_loja1 = round(sum(loja1['Preço']), 2)\n",
        "\n",
        "print(f'O faturamento da Loja 1 foi de: R${faturamento_loja1}')"
      ],
      "metadata": {
        "id": "xykobSftV64I",
        "colab": {
          "base_uri": "https://localhost:8080/"
        },
        "outputId": "6ffbbe4d-d816-49cc-caed-f25972647b60"
      },
      "execution_count": 2,
      "outputs": [
        {
          "output_type": "stream",
          "name": "stdout",
          "text": [
            "O faturamento da Loja 1 foi de: R$1534509.12\n"
          ]
        }
      ]
    },
    {
      "cell_type": "code",
      "source": [
        "# Loja 2\n",
        "\n",
        "faturamento_loja2 = round(sum(loja2['Preço']), 2)\n",
        "\n",
        "print(f'O faturamento da Loja 2 foi de: R${faturamento_loja2}')"
      ],
      "metadata": {
        "colab": {
          "base_uri": "https://localhost:8080/"
        },
        "id": "Q8Rr-uPMs-iD",
        "outputId": "dfb885d9-f16b-4e92-84bb-c79a6d42c22f"
      },
      "execution_count": 3,
      "outputs": [
        {
          "output_type": "stream",
          "name": "stdout",
          "text": [
            "O faturamento da Loja 2 foi de: R$1488459.06\n"
          ]
        }
      ]
    },
    {
      "cell_type": "code",
      "source": [
        "# Loja 3\n",
        "\n",
        "faturamento_loja3 = round(sum(loja3['Preço']), 2)\n",
        "\n",
        "print(f'O faturamento da Loja 3 foi de: R${faturamento_loja3}')"
      ],
      "metadata": {
        "colab": {
          "base_uri": "https://localhost:8080/"
        },
        "id": "gaOG2EZ3s-v7",
        "outputId": "ea8ca4b5-b427-4606-da56-90891530348c"
      },
      "execution_count": 4,
      "outputs": [
        {
          "output_type": "stream",
          "name": "stdout",
          "text": [
            "O faturamento da Loja 3 foi de: R$1464025.03\n"
          ]
        }
      ]
    },
    {
      "cell_type": "code",
      "source": [
        "# Loja 4\n",
        "\n",
        "faturamento_loja4 = round(sum(loja4['Preço']), 2)\n",
        "\n",
        "print(f'O faturamento da Loja 4 foi de: R${faturamento_loja4}')"
      ],
      "metadata": {
        "colab": {
          "base_uri": "https://localhost:8080/"
        },
        "id": "JnHPHxE4s-7j",
        "outputId": "c7620e36-3646-41da-a3b4-5595139e30b6"
      },
      "execution_count": 5,
      "outputs": [
        {
          "output_type": "stream",
          "name": "stdout",
          "text": [
            "O faturamento da Loja 4 foi de: R$1384497.58\n"
          ]
        }
      ]
    },
    {
      "cell_type": "code",
      "source": [
        "# Comparação\n",
        "\n",
        "comparacao_faturamento_lojas = {'Loja 1':faturamento_loja1, 'Loja 2':faturamento_loja2, 'Loja 3':faturamento_loja3, 'Loja 4':faturamento_loja4}\n",
        "comparacao_ordenada_faturamento_lojas = sorted(comparacao_faturamento_lojas.items(), key=lambda item: item[1], reverse=True)\n",
        "\n",
        "print(\"Faturamento das lojas em ordem crescente:\")\n",
        "for loja, faturamento in comparacao_ordenada_faturamento_lojas:\n",
        "    print(f'{loja}: R${faturamento}')"
      ],
      "metadata": {
        "colab": {
          "base_uri": "https://localhost:8080/"
        },
        "id": "vKHTqv31s_WC",
        "outputId": "e3352ac4-85d6-45ce-d9b9-248fce306ca8"
      },
      "execution_count": 6,
      "outputs": [
        {
          "output_type": "stream",
          "name": "stdout",
          "text": [
            "Faturamento das lojas em ordem crescente:\n",
            "Loja 1: R$1534509.12\n",
            "Loja 2: R$1488459.06\n",
            "Loja 3: R$1464025.03\n",
            "Loja 4: R$1384497.58\n"
          ]
        }
      ]
    },
    {
      "cell_type": "markdown",
      "source": [
        "## 2. Vendas por Categoria\n"
      ],
      "metadata": {
        "id": "2V_vcAPzWZmR"
      }
    },
    {
      "cell_type": "markdown",
      "source": [
        "### sub-goal: Idenficar as categorias mais vendidas."
      ],
      "metadata": {
        "id": "J8hpLu7xkuWz"
      }
    },
    {
      "cell_type": "code",
      "source": [
        "# Loja 1\n",
        "\n",
        "vendas_categoria_loja1 = {}\n",
        "for categoria in loja1['Categoria do Produto']:\n",
        "  if categoria in vendas_categoria_loja1:\n",
        "    vendas_categoria_loja1[categoria] += 1\n",
        "  else:\n",
        "    vendas_categoria_loja1[categoria] = 1\n",
        "\n",
        "vendas_categoria_ordenada_loja1 = sorted(vendas_categoria_loja1.items(), key = lambda item: item[1], reverse = True)\n",
        "top_categorias_loja1 = vendas_categoria_ordenada_loja1[:3]\n",
        "\n",
        "print(f'As três categorias mais vendidas da Loja 1 são: {top_categorias_loja1}')"
      ],
      "metadata": {
        "colab": {
          "base_uri": "https://localhost:8080/"
        },
        "id": "eF3DO-9rkp7p",
        "outputId": "e70999c4-14c5-456a-8a70-4433e093b723"
      },
      "execution_count": 7,
      "outputs": [
        {
          "output_type": "stream",
          "name": "stdout",
          "text": [
            "As três categorias mais vendidas da Loja 1 são: [('moveis', 465), ('eletronicos', 448), ('brinquedos', 324)]\n"
          ]
        }
      ]
    },
    {
      "cell_type": "code",
      "source": [
        "# Loja 2\n",
        "\n",
        "vendas_categoria_loja2 = {}\n",
        "for categoria in loja2['Categoria do Produto']:\n",
        "  if categoria in vendas_categoria_loja2:\n",
        "    vendas_categoria_loja2[categoria] += 1\n",
        "  else:\n",
        "    vendas_categoria_loja2[categoria] = 1\n",
        "\n",
        "vendas_categoria_ordenada_loja2 = sorted(vendas_categoria_loja2.items(), key = lambda item: item[1], reverse = True)\n",
        "top_categorias_loja2 = vendas_categoria_ordenada_loja2[:3]\n",
        "\n",
        "print(f'As três categorias mais vendidas da Loja 2 são: {top_categorias_loja2}')"
      ],
      "metadata": {
        "id": "A34YupIuYhfF",
        "colab": {
          "base_uri": "https://localhost:8080/"
        },
        "outputId": "04378197-e99a-4021-edd5-5859b27ea572"
      },
      "execution_count": 8,
      "outputs": [
        {
          "output_type": "stream",
          "name": "stdout",
          "text": [
            "As três categorias mais vendidas da Loja 2 são: [('moveis', 442), ('eletronicos', 422), ('brinquedos', 313)]\n"
          ]
        }
      ]
    },
    {
      "cell_type": "code",
      "source": [
        "# Loja 3\n",
        "\n",
        "vendas_categoria_loja3 = {}\n",
        "for categoria in loja3['Categoria do Produto']:\n",
        "  if categoria in vendas_categoria_loja3:\n",
        "    vendas_categoria_loja3[categoria] += 1\n",
        "  else:\n",
        "    vendas_categoria_loja3[categoria] = 1\n",
        "\n",
        "vendas_categoria_ordenada_loja3 = sorted(vendas_categoria_loja3.items(), key = lambda item: item[1], reverse = True)\n",
        "top_categorias_loja3 = vendas_categoria_ordenada_loja3[:3]\n",
        "\n",
        "print(f'As três categorias mais vendidas da Loja 3 são: {top_categorias_loja3}')"
      ],
      "metadata": {
        "id": "yZR6cOjXYSk1",
        "colab": {
          "base_uri": "https://localhost:8080/"
        },
        "outputId": "51f6d8f2-7e79-46ab-9586-f9ec4bfa03ac"
      },
      "execution_count": 9,
      "outputs": [
        {
          "output_type": "stream",
          "name": "stdout",
          "text": [
            "As três categorias mais vendidas da Loja 3 são: [('moveis', 499), ('eletronicos', 451), ('brinquedos', 315)]\n"
          ]
        }
      ]
    },
    {
      "cell_type": "code",
      "source": [
        "# Loja 4\n",
        "\n",
        "vendas_categoria_loja4 = {}\n",
        "for categoria in loja4['Categoria do Produto']:\n",
        "  if categoria in vendas_categoria_loja4:\n",
        "    vendas_categoria_loja4[categoria] += 1\n",
        "  else:\n",
        "    vendas_categoria_loja4[categoria] = 1\n",
        "\n",
        "vendas_categoria_ordenada_loja4 = sorted(vendas_categoria_loja4.items(), key = lambda item: item[1], reverse = True)\n",
        "top_categorias_loja4 = vendas_categoria_ordenada_loja4[:3]\n",
        "\n",
        "print(f'As três categorias mais vendidas da Loja 4 são: {top_categorias_loja4}')"
      ],
      "metadata": {
        "colab": {
          "base_uri": "https://localhost:8080/"
        },
        "id": "RGZMGgdekuLC",
        "outputId": "55dfb76d-5ff7-4eb4-8dee-ab8d4f61821e"
      },
      "execution_count": 10,
      "outputs": [
        {
          "output_type": "stream",
          "name": "stdout",
          "text": [
            "As três categorias mais vendidas da Loja 4 são: [('moveis', 480), ('eletronicos', 451), ('brinquedos', 338)]\n"
          ]
        }
      ]
    },
    {
      "cell_type": "code",
      "source": [
        "# Comparação\n",
        "\n",
        "comparacao_categoria_lojas = {'Loja 1':top_categorias_loja1, 'Loja 2':top_categorias_loja2, 'Loja 3':top_categorias_loja3, 'Loja 4':top_categorias_loja4}\n",
        "#ordenar\n",
        "comparacao_ordenada_categoria_lojas = sorted(comparacao_categoria_lojas.items(), key = lambda item: item[1][0][1] + item[1][1][1] + item[1][2][1], reverse = True)\n",
        "\n",
        "print(f'Das categorias mais vendidas, as lojas, em ordem decrescente de vendas, têm os seguintes resultados:')\n",
        "for loja, vendas in comparacao_ordenada_categoria_lojas:\n",
        "  print(f'{loja}: {vendas}')"
      ],
      "metadata": {
        "colab": {
          "base_uri": "https://localhost:8080/"
        },
        "id": "3e2L5jfIkuU1",
        "outputId": "207ade50-893c-4e63-8d87-28275b9315c9"
      },
      "execution_count": 11,
      "outputs": [
        {
          "output_type": "stream",
          "name": "stdout",
          "text": [
            "Das categorias mais vendidas, as lojas, em ordem decrescente de vendas, têm os seguintes resultados:\n",
            "Loja 4: [('moveis', 480), ('eletronicos', 451), ('brinquedos', 338)]\n",
            "Loja 3: [('moveis', 499), ('eletronicos', 451), ('brinquedos', 315)]\n",
            "Loja 1: [('moveis', 465), ('eletronicos', 448), ('brinquedos', 324)]\n",
            "Loja 2: [('moveis', 442), ('eletronicos', 422), ('brinquedos', 313)]\n"
          ]
        }
      ]
    },
    {
      "cell_type": "markdown",
      "source": [
        "## 3. Média de Avaliação das Lojas"
      ],
      "metadata": {
        "id": "Rq6tU_xSY3jk"
      }
    },
    {
      "cell_type": "markdown",
      "source": [
        "### sub-goal: Idenficar as lojas com as melhores médias de avaliação dos clientes."
      ],
      "metadata": {
        "id": "qUMUK3MdlQO8"
      }
    },
    {
      "cell_type": "code",
      "source": [
        "# Loja 1\n",
        "\n",
        "avaliacoes_loja1 = {}\n",
        "\n",
        "for avaliacao in loja1['Avaliação da compra']:\n",
        "  if avaliacao in avaliacoes_loja1:\n",
        "    avaliacoes_loja1[avaliacao] += 1\n",
        "  else:\n",
        "    avaliacoes_loja1[avaliacao] = 1\n",
        "\n",
        "avaliacoes_ordenadas_loja1 = sorted(avaliacoes_loja1.items(), key = lambda item: item[1], reverse = True)\n",
        "\n",
        "print(f'As avaliações, em ordem decrescente, da Loja 1 são: {avaliacoes_ordenadas_loja1}')"
      ],
      "metadata": {
        "id": "bh3jjjJwY5MU",
        "colab": {
          "base_uri": "https://localhost:8080/"
        },
        "outputId": "48a0f158-1af4-4cd6-cdcc-f58a308ac796"
      },
      "execution_count": 12,
      "outputs": [
        {
          "output_type": "stream",
          "name": "stdout",
          "text": [
            "As avaliações, em ordem decrescente, da Loja 1 são: [(5, 1292), (4, 444), (1, 319), (3, 218), (2, 86)]\n"
          ]
        }
      ]
    },
    {
      "cell_type": "code",
      "source": [
        "# Loja 2\n",
        "\n",
        "avaliacoes_loja2 = {}\n",
        "\n",
        "for avaliacao in loja2['Avaliação da compra']:\n",
        "  if avaliacao in avaliacoes_loja2:\n",
        "    avaliacoes_loja2[avaliacao] += 1\n",
        "  else:\n",
        "    avaliacoes_loja2[avaliacao] = 1\n",
        "\n",
        "avaliacoes_ordenadas_loja2 = sorted(avaliacoes_loja2.items(), key = lambda item: item[1], reverse = True)\n",
        "\n",
        "print(f'As avaliações, em ordem decrescente, da Loja 2 são: {avaliacoes_ordenadas_loja2}')"
      ],
      "metadata": {
        "id": "I0KkjPoTY88F",
        "colab": {
          "base_uri": "https://localhost:8080/"
        },
        "outputId": "2e362cf5-6f1e-45e4-a20d-348f438d1025"
      },
      "execution_count": 13,
      "outputs": [
        {
          "output_type": "stream",
          "name": "stdout",
          "text": [
            "As avaliações, em ordem decrescente, da Loja 2 são: [(5, 1302), (4, 482), (1, 273), (3, 209), (2, 93)]\n"
          ]
        }
      ]
    },
    {
      "cell_type": "code",
      "source": [
        "# Loja 3\n",
        "\n",
        "avaliacoes_loja3 = {}\n",
        "\n",
        "for avaliacao in loja3['Avaliação da compra']:\n",
        "  if avaliacao in avaliacoes_loja3:\n",
        "    avaliacoes_loja3[avaliacao] += 1\n",
        "  else:\n",
        "    avaliacoes_loja3[avaliacao] = 1\n",
        "\n",
        "avaliacoes_ordenadas_loja3 = sorted(avaliacoes_loja3.items(), key = lambda item: item[1], reverse = True)\n",
        "\n",
        "print(f'As avaliações, em ordem decrescente, da Loja 3 são: {avaliacoes_ordenadas_loja3}')"
      ],
      "metadata": {
        "id": "Sb2enZmzzlp9",
        "colab": {
          "base_uri": "https://localhost:8080/"
        },
        "outputId": "63c7d7c7-1066-4245-cfea-f0c99591a895"
      },
      "execution_count": 14,
      "outputs": [
        {
          "output_type": "stream",
          "name": "stdout",
          "text": [
            "As avaliações, em ordem decrescente, da Loja 3 são: [(5, 1356), (4, 434), (1, 297), (3, 193), (2, 79)]\n"
          ]
        }
      ]
    },
    {
      "cell_type": "code",
      "source": [
        "# Loja 4\n",
        "\n",
        "avaliacoes_loja4 = {}\n",
        "\n",
        "for avaliacao in loja4['Avaliação da compra']:\n",
        "  if avaliacao in avaliacoes_loja4:\n",
        "    avaliacoes_loja4[avaliacao] += 1\n",
        "  else:\n",
        "    avaliacoes_loja4[avaliacao] = 1\n",
        "\n",
        "avaliacoes_ordenadas_loja4 = sorted(avaliacoes_loja4.items(), key = lambda item: item[1], reverse = True)\n",
        "\n",
        "print(f'As avaliações, em ordem decrescente, da Loja 4 são: {avaliacoes_ordenadas_loja4}')"
      ],
      "metadata": {
        "id": "MM-NkHb8zl72",
        "colab": {
          "base_uri": "https://localhost:8080/"
        },
        "outputId": "6f2180f8-5ec4-4794-819c-6d208ca13a7c"
      },
      "execution_count": 15,
      "outputs": [
        {
          "output_type": "stream",
          "name": "stdout",
          "text": [
            "As avaliações, em ordem decrescente, da Loja 4 são: [(5, 1300), (4, 453), (1, 310), (3, 210), (2, 85)]\n"
          ]
        }
      ]
    },
    {
      "cell_type": "code",
      "source": [
        "# Comparação\n",
        "\n",
        "comparacao_avaliacoes_lojas = {'Loja 1':avaliacoes_ordenadas_loja1, 'Loja 2': avaliacoes_ordenadas_loja2, 'Loja 3':avaliacoes_ordenadas_loja3, 'Loja 4': avaliacoes_ordenadas_loja4}\n",
        "comparacao_avaliacoes_ordenadas_lojas = sorted(comparacao_avaliacoes_lojas.items(), key = lambda item: item[1][0][1] + item[1][1][1] - item[1][2][1] - item[1][3][1] - item[1][4][1], reverse = True)\n",
        "\n",
        "print('Das avaliações dos clientes, as lojas, em ordem descrescente de avaliações positivas (seguindo a lógica de: mais avaliações 5 e 4 e menos 1, 2 e 3), têm os seguintes resultados:')\n",
        "for loja, avaliacao in comparacao_avaliacoes_ordenadas_lojas:\n",
        "  print(f'{loja}: {avaliacao}')"
      ],
      "metadata": {
        "id": "MN79QmFnzmKz",
        "colab": {
          "base_uri": "https://localhost:8080/"
        },
        "outputId": "10e82ee0-c0ea-4676-aa81-b5f56ba4ae87"
      },
      "execution_count": 16,
      "outputs": [
        {
          "output_type": "stream",
          "name": "stdout",
          "text": [
            "Das avaliações dos clientes, as lojas, em ordem descrescente de avaliações positivas (seguindo a lógica de: mais avaliações 5 e 4 e menos 1, 2 e 3), têm os seguintes resultados:\n",
            "Loja 3: [(5, 1356), (4, 434), (1, 297), (3, 193), (2, 79)]\n",
            "Loja 2: [(5, 1302), (4, 482), (1, 273), (3, 209), (2, 93)]\n",
            "Loja 4: [(5, 1300), (4, 453), (1, 310), (3, 210), (2, 85)]\n",
            "Loja 1: [(5, 1292), (4, 444), (1, 319), (3, 218), (2, 86)]\n"
          ]
        }
      ]
    },
    {
      "cell_type": "markdown",
      "source": [
        "## 4. Produtos Mais e Menos Vendidos"
      ],
      "metadata": {
        "id": "DmNp1KPBZCm-"
      }
    },
    {
      "cell_type": "markdown",
      "source": [
        "### sub-goal: Idenficar os produtos menos e mais vendidos."
      ],
      "metadata": {
        "id": "hg-cB3GUlYje"
      }
    },
    {
      "cell_type": "code",
      "source": [
        "# Loja 1\n",
        "\n",
        "vendas_produtos_loja1 = {}\n",
        "\n",
        "for produto in loja1['Produto']:\n",
        "  if produto in vendas_produtos_loja1:\n",
        "    vendas_produtos_loja1[produto] += 1\n",
        "  else:\n",
        "    vendas_produtos_loja1[produto] = 1\n",
        "\n",
        "vendas_produtos_ordenada_loja1 = sorted(vendas_produtos_loja1.items(), key = lambda item: item[1], reverse = True)\n",
        "\n",
        "top_vendas_produtos_loja1 = vendas_produtos_ordenada_loja1[:3]\n",
        "bottom_vendas_produtos_loja1 = vendas_produtos_ordenada_loja1[-3:]\n",
        "\n",
        "print(f'Produtos mais vendidos na Loja 1: {top_vendas_produtos_loja1}')\n",
        "print(f'Produtos menos vendidos na Loja 1: {bottom_vendas_produtos_loja1}')"
      ],
      "metadata": {
        "id": "qoyjqijQZHfF",
        "colab": {
          "base_uri": "https://localhost:8080/"
        },
        "outputId": "04835970-1bca-4058-b53b-a52b12aead8e"
      },
      "execution_count": 17,
      "outputs": [
        {
          "output_type": "stream",
          "name": "stdout",
          "text": [
            "Produtos mais vendidos na Loja 1: [('Micro-ondas', 60), ('TV Led UHD 4K', 60), ('Guarda roupas', 60)]\n",
            "Produtos menos vendidos na Loja 1: [('Panela de pressão', 35), ('Headset', 33), ('Celular ABXY', 33)]\n"
          ]
        }
      ]
    },
    {
      "cell_type": "code",
      "source": [
        "# Loja 2\n",
        "\n",
        "vendas_produtos_loja2 = {}\n",
        "\n",
        "for produto in loja2['Produto']:\n",
        "  if produto in vendas_produtos_loja2:\n",
        "    vendas_produtos_loja2[produto] += 1\n",
        "  else:\n",
        "    vendas_produtos_loja2[produto] = 1\n",
        "\n",
        "vendas_produtos_ordenada_loja2 = sorted(vendas_produtos_loja2.items(), key = lambda item: item[1], reverse = True)\n",
        "\n",
        "top_vendas_produtos_loja2 = vendas_produtos_ordenada_loja2[:3]\n",
        "bottom_vendas_produtos_loja2 = vendas_produtos_ordenada_loja2[-3:]\n",
        "\n",
        "print(f'Produtos mais vendidos na Loja 2: {top_vendas_produtos_loja2}')\n",
        "print(f'Produtos menos vendidos na Loja 2: {bottom_vendas_produtos_loja2}')"
      ],
      "metadata": {
        "id": "0Sw3sd4IZIGW",
        "colab": {
          "base_uri": "https://localhost:8080/"
        },
        "outputId": "1855b2e2-6815-4fd7-98b1-a4e4e6b36f50"
      },
      "execution_count": 18,
      "outputs": [
        {
          "output_type": "stream",
          "name": "stdout",
          "text": [
            "Produtos mais vendidos na Loja 2: [('Iniciando em programação', 65), ('Micro-ondas', 62), ('Bateria', 61)]\n",
            "Produtos menos vendidos na Loja 2: [('Mesa de jantar', 34), ('Impressora', 34), ('Jogo de tabuleiro', 32)]\n"
          ]
        }
      ]
    },
    {
      "cell_type": "code",
      "source": [
        "# Loja 3\n",
        "\n",
        "vendas_produtos_loja3 = {}\n",
        "\n",
        "for produto in loja3['Produto']:\n",
        "  if produto in vendas_produtos_loja3:\n",
        "    vendas_produtos_loja3[produto] += 1\n",
        "  else:\n",
        "    vendas_produtos_loja3[produto] = 1\n",
        "\n",
        "vendas_produtos_ordenada_loja3 = sorted(vendas_produtos_loja3.items(), key = lambda item: item[1], reverse = True)\n",
        "\n",
        "top_vendas_produtos_loja3 = vendas_produtos_ordenada_loja3[:3]\n",
        "bottom_vendas_produtos_loja3 = vendas_produtos_ordenada_loja3[-3:]\n",
        "\n",
        "print(f'Produtos mais vendidos na Loja 3: {top_vendas_produtos_loja3}')\n",
        "print(f'Produtos menos vendidos na Loja 3: {bottom_vendas_produtos_loja3}')"
      ],
      "metadata": {
        "colab": {
          "base_uri": "https://localhost:8080/"
        },
        "id": "HuHEi5zdfZSn",
        "outputId": "973c17bd-2339-450f-abab-89870f73386d"
      },
      "execution_count": 19,
      "outputs": [
        {
          "output_type": "stream",
          "name": "stdout",
          "text": [
            "Produtos mais vendidos na Loja 3: [('Kit banquetas', 57), ('Mesa de jantar', 56), ('Cama king', 56)]\n",
            "Produtos menos vendidos na Loja 3: [('Mochila', 36), ('Micro-ondas', 36), ('Blocos de montar', 35)]\n"
          ]
        }
      ]
    },
    {
      "cell_type": "code",
      "source": [
        "# Loja 4\n",
        "\n",
        "vendas_produtos_loja4 = {}\n",
        "\n",
        "for produto in loja4['Produto']:\n",
        "  if produto in vendas_produtos_loja4:\n",
        "    vendas_produtos_loja4[produto] += 1\n",
        "  else:\n",
        "    vendas_produtos_loja4[produto] = 1\n",
        "\n",
        "vendas_produtos_ordenada_loja4 = sorted(vendas_produtos_loja4.items(), key = lambda item: item[1], reverse = True)\n",
        "\n",
        "top_vendas_produtos_loja4 = vendas_produtos_ordenada_loja4[:3]\n",
        "bottom_vendas_produtos_loja4 = vendas_produtos_ordenada_loja4[-3:]\n",
        "\n",
        "print(f'Produtos mais vendidos na Loja 4: {top_vendas_produtos_loja4}')\n",
        "print(f'Produtos menos vendidos na Loja 4: {bottom_vendas_produtos_loja4}')"
      ],
      "metadata": {
        "colab": {
          "base_uri": "https://localhost:8080/"
        },
        "id": "WU65-5pafZdk",
        "outputId": "c5b917e2-38d1-4ed0-9e92-fc5078f2f386"
      },
      "execution_count": 20,
      "outputs": [
        {
          "output_type": "stream",
          "name": "stdout",
          "text": [
            "Produtos mais vendidos na Loja 4: [('Cama box', 62), ('Faqueiro', 59), ('Dashboards com Power BI', 56)]\n",
            "Produtos menos vendidos na Loja 4: [('Violão', 37), ('Guarda roupas', 34), ('Guitarra', 33)]\n"
          ]
        }
      ]
    },
    {
      "cell_type": "code",
      "source": [
        "# Comparação\n",
        "\n",
        "comparacao_top_vendas_lojas = {'Loja 1': top_vendas_produtos_loja1, 'Loja 2': top_vendas_produtos_loja2, 'Loja 3': top_vendas_produtos_loja3, 'Loja 4': top_vendas_produtos_loja4}\n",
        "comparacao_bottom_vendas_lojas = {'Loja 1': bottom_vendas_produtos_loja1, 'Loja 2': bottom_vendas_produtos_loja2, 'Loja 3': bottom_vendas_produtos_loja3, 'Loja 4': bottom_vendas_produtos_loja4}\n",
        "\n",
        "print('Os três produtos mais vendidos em cada loja são:')\n",
        "for item in comparacao_top_vendas_lojas.items():\n",
        "  print(f'{item[0]}: {item[1]}')\n",
        "\n",
        "print()\n",
        "\n",
        "print('Os três produtos menos vendidos em cada loja são:')\n",
        "for item in comparacao_bottom_vendas_lojas.items():\n",
        "  print(f'{item[0]}: {item[1]}')"
      ],
      "metadata": {
        "colab": {
          "base_uri": "https://localhost:8080/"
        },
        "id": "73kThb34fZpJ",
        "outputId": "93f384bf-3ce5-404e-9b6a-0cb0bab49d0f"
      },
      "execution_count": 21,
      "outputs": [
        {
          "output_type": "stream",
          "name": "stdout",
          "text": [
            "Os três produtos mais vendidos em cada loja são:\n",
            "Loja 1: [('Micro-ondas', 60), ('TV Led UHD 4K', 60), ('Guarda roupas', 60)]\n",
            "Loja 2: [('Iniciando em programação', 65), ('Micro-ondas', 62), ('Bateria', 61)]\n",
            "Loja 3: [('Kit banquetas', 57), ('Mesa de jantar', 56), ('Cama king', 56)]\n",
            "Loja 4: [('Cama box', 62), ('Faqueiro', 59), ('Dashboards com Power BI', 56)]\n",
            "\n",
            "Os três produtos menos vendidos em cada loja são:\n",
            "Loja 1: [('Panela de pressão', 35), ('Headset', 33), ('Celular ABXY', 33)]\n",
            "Loja 2: [('Mesa de jantar', 34), ('Impressora', 34), ('Jogo de tabuleiro', 32)]\n",
            "Loja 3: [('Mochila', 36), ('Micro-ondas', 36), ('Blocos de montar', 35)]\n",
            "Loja 4: [('Violão', 37), ('Guarda roupas', 34), ('Guitarra', 33)]\n"
          ]
        }
      ]
    },
    {
      "cell_type": "markdown",
      "source": [
        "## 5. Frete Médio por Loja\n"
      ],
      "metadata": {
        "id": "Fl0cGi3bZKqU"
      }
    },
    {
      "cell_type": "markdown",
      "source": [
        "### sub-goal: Idenficar o valor de frete médio por loja."
      ],
      "metadata": {
        "id": "K0GfxkaNleSk"
      }
    },
    {
      "cell_type": "code",
      "source": [
        "# Loja 1\n",
        "\n",
        "custo_frete_loja1 = [tupla[1] for tupla in loja1['Frete'].items()]\n",
        "\n",
        "frete_medio_loja1 = round(sum(custo_frete_loja1) / len(custo_frete_loja1), 2)\n",
        "\n",
        "print(f'O custo médio com frete na Loja 1 é de: {frete_medio_loja1}')"
      ],
      "metadata": {
        "id": "S2JeaCykZNy9",
        "colab": {
          "base_uri": "https://localhost:8080/"
        },
        "outputId": "f427e8bf-0912-4360-a116-d20946b6d87b"
      },
      "execution_count": 22,
      "outputs": [
        {
          "output_type": "stream",
          "name": "stdout",
          "text": [
            "O custo médio com frete na Loja 1 é de: 34.69\n"
          ]
        }
      ]
    },
    {
      "cell_type": "code",
      "source": [
        "# Loja 2\n",
        "\n",
        "custo_frete_loja2 = [tupla[1] for tupla in loja2['Frete'].items()]\n",
        "\n",
        "frete_medio_loja2 = round(sum(custo_frete_loja2) / len(custo_frete_loja2), 2)\n",
        "\n",
        "print(f'O custo médio com frete na Loja 2 é de: {frete_medio_loja2}')"
      ],
      "metadata": {
        "id": "0tSdCie9ZQlt",
        "colab": {
          "base_uri": "https://localhost:8080/"
        },
        "outputId": "2a1b0558-9e88-4133-f851-2cb5da4658c1"
      },
      "execution_count": 23,
      "outputs": [
        {
          "output_type": "stream",
          "name": "stdout",
          "text": [
            "O custo médio com frete na Loja 2 é de: 33.62\n"
          ]
        }
      ]
    },
    {
      "cell_type": "code",
      "source": [
        "# Loja 3\n",
        "\n",
        "custo_frete_loja3 = [tupla[1] for tupla in loja3['Frete'].items()]\n",
        "\n",
        "frete_medio_loja3 = round(sum(custo_frete_loja3) / len(custo_frete_loja3), 2)\n",
        "\n",
        "print(f'O custo médio com frete na Loja 3 é de: {frete_medio_loja3}')"
      ],
      "metadata": {
        "id": "4u2OVw3ftZKs",
        "colab": {
          "base_uri": "https://localhost:8080/"
        },
        "outputId": "3c7c1f55-fd1e-4817-bf9c-dcf7d59d2a93"
      },
      "execution_count": 24,
      "outputs": [
        {
          "output_type": "stream",
          "name": "stdout",
          "text": [
            "O custo médio com frete na Loja 3 é de: 33.07\n"
          ]
        }
      ]
    },
    {
      "cell_type": "code",
      "source": [
        "# Loja 4\n",
        "\n",
        "custo_frete_loja4 = [tupla[1] for tupla in loja4['Frete'].items()]\n",
        "\n",
        "frete_medio_loja4 = round(sum(custo_frete_loja4) / len(custo_frete_loja4), 2)\n",
        "\n",
        "print(f'O custo médio com frete na Loja 4 é de: {frete_medio_loja4}')"
      ],
      "metadata": {
        "id": "8B20vr2htZBp",
        "colab": {
          "base_uri": "https://localhost:8080/"
        },
        "outputId": "33529194-f19f-4eec-b0f0-3fde9bb27fb8"
      },
      "execution_count": 25,
      "outputs": [
        {
          "output_type": "stream",
          "name": "stdout",
          "text": [
            "O custo médio com frete na Loja 4 é de: 31.28\n"
          ]
        }
      ]
    },
    {
      "cell_type": "code",
      "source": [
        "# Comparação\n",
        "\n",
        "frete_medio_lojas = {'Loja 1': frete_medio_loja1, 'Loja 2': frete_medio_loja2, 'Loja 3': frete_medio_loja3, 'Loja 4': frete_medio_loja4}\n",
        "frete_medio_ordenado_lojas = sorted(frete_medio_lojas.items(), key = lambda tupla: tupla[1])\n",
        "\n",
        "print('De frete médio, as lojas, em ordem crescente, têm os seguintes resultados:')\n",
        "for loja, frete in frete_medio_ordenado_lojas:\n",
        "  print(f'{loja}: {frete}')"
      ],
      "metadata": {
        "id": "LMAgh51StY6B",
        "colab": {
          "base_uri": "https://localhost:8080/"
        },
        "outputId": "1a29e4e1-880d-4f17-c746-98953b5189be"
      },
      "execution_count": 26,
      "outputs": [
        {
          "output_type": "stream",
          "name": "stdout",
          "text": [
            "De frete médio, as lojas, em ordem crescente, têm os seguintes resultados:\n",
            "Loja 4: 31.28\n",
            "Loja 3: 33.07\n",
            "Loja 2: 33.62\n",
            "Loja 1: 34.69\n"
          ]
        }
      ]
    },
    {
      "cell_type": "markdown",
      "source": [
        "#£ Relatório da análise"
      ],
      "metadata": {
        "id": "Vd_oyw_PjdSY"
      }
    },
    {
      "cell_type": "markdown",
      "source": [
        "##Criação dos gráficos para visualização:"
      ],
      "metadata": {
        "id": "9AtwbyULjjEo"
      }
    },
    {
      "cell_type": "markdown",
      "source": [
        "*    Decida quais tipos de gráficos usar para apresentar os resultados de maneira clara e visual.\n",
        "*\n",
        "*    Mínimo de 3 gráficos diferentes, que podem incluir gráficos de barras, pizza, dispersão, entre outros.\n",
        "\n",
        "\n",
        "\n"
      ],
      "metadata": {
        "id": "eLa0y2MjmI74"
      }
    },
    {
      "cell_type": "code",
      "source": [
        "# Faturamento | Pie\n",
        "# Avaliações | Bar\n",
        "# Frete Médio | Bar"
      ],
      "metadata": {
        "id": "g8TwXzUvjjeK"
      },
      "execution_count": 27,
      "outputs": []
    },
    {
      "cell_type": "code",
      "source": [
        "import matplotlib.pyplot as plt\n",
        "import numpy as np"
      ],
      "metadata": {
        "id": "VCemIm5ZRPQq"
      },
      "execution_count": 28,
      "outputs": []
    },
    {
      "cell_type": "code",
      "source": [
        "# Faturamento | Pie\n",
        "# Dados\n",
        "lojas_faturamentos = [tupla[0] for tupla in comparacao_faturamento_lojas.items()]\n",
        "faturamentos = [tupla[1] for tupla in comparacao_faturamento_lojas.items()]\n",
        "cores = ['orange', 'skyblue', 'lightcoral', 'lightgreen']\n",
        "explode = [0.08, 0, 0, 0]\n",
        "\n",
        "# Configurações do gráfico\n",
        "\n",
        "plt.figure(figsize=(10,8))\n",
        "plt.title('Faturamento - Lojas Sr.João')\n",
        "plt.pie(faturamentos,\n",
        "        labels=lojas_faturamentos,\n",
        "        colors=cores,\n",
        "        autopct='%1.1f%%',\n",
        "        startangle=0,\n",
        "        explode=explode,\n",
        "        shadow=True)\n",
        "plt.axis('equal')\n",
        "plt.show()"
      ],
      "metadata": {
        "id": "A5zrxI6pREo3",
        "colab": {
          "base_uri": "https://localhost:8080/",
          "height": 675
        },
        "outputId": "8fdacc07-831b-4811-91b3-d067ad4b0a1e"
      },
      "execution_count": 29,
      "outputs": [
        {
          "output_type": "display_data",
          "data": {
            "text/plain": [
              "<Figure size 1000x800 with 1 Axes>"
            ],
            "image/png": "[encoded data removed]"
          },
          "metadata": {}
        }
      ]
    },
    {
      "cell_type": "code",
      "source": [
        "# Avaliações | Bar\n",
        "\n",
        "# Configurações uma função do gráfico de barras\n",
        "def barchart(avaliacoes_lojaX, notas_lojaX, qnt_lojaX, title, colors):\n",
        "  plt.figure(figsize=(3,3))\n",
        "  plt.title(title)\n",
        "  plt.bar(notas_lojaX, qnt_lojaX,\n",
        "          color=colors)\n",
        "  plt.xlabel('Notas')\n",
        "  plt.ylabel('Quantidade')\n",
        "  plt.xticks(notas_lojaX)\n",
        "\n",
        "  for n, q in enumerate(avaliacoes_lojaX):\n",
        "    plt.text(notas_lojaX[n], q[1], str(q[1]), ha='center', va='bottom')\n",
        "  plt.grid(axis='y', linestyle='--', alpha=0.6)\n",
        "\n",
        "  plt.show()\n",
        "\n",
        "\n",
        "# Dados Loja 1\n",
        "\n",
        "avaliacoes_loja1 = avaliacoes_loja1.items()\n",
        "avaliacoes_loja1 = sorted(avaliacoes_loja1, key=lambda tupla: tupla[0])\n",
        "notas_loja1 = [tupla[0] for tupla in avaliacoes_loja1]\n",
        "qnt_loja1 = [tupla[1] for tupla in avaliacoes_loja1]\n",
        "\n",
        "# Dados Loja 2\n",
        "\n",
        "avaliacoes_loja2 = avaliacoes_loja2.items()\n",
        "avaliacoes_loja2 = sorted(avaliacoes_loja2, key=lambda tupla: tupla[0])\n",
        "notas_loja2 = [tupla[0] for tupla in avaliacoes_loja2]\n",
        "qnt_loja2 = [tupla[1] for tupla in avaliacoes_loja2]\n",
        "\n",
        "# Dados Loja 3\n",
        "\n",
        "avaliacoes_loja3 = avaliacoes_loja3.items()\n",
        "avaliacoes_loja3 = sorted(avaliacoes_loja3, key=lambda tupla: tupla[0])\n",
        "notas_loja3 = [tupla[0] for tupla in avaliacoes_loja3]\n",
        "qnt_loja3 = [tupla[1] for tupla in avaliacoes_loja3]\n",
        "\n",
        "# Dados Loja 4\n",
        "\n",
        "avaliacoes_loja4 = avaliacoes_loja4.items()\n",
        "avaliacoes_loja4 = sorted(avaliacoes_loja4, key=lambda tupla: tupla[0])\n",
        "notas_loja4 = [tupla[0] for tupla in avaliacoes_loja4]\n",
        "qnt_loja4 = [tupla[1] for tupla in avaliacoes_loja4]\n",
        "\n",
        "\n",
        "# Implementando os dados na função\n",
        "\n",
        "barchart(avaliacoes_loja1, notas_loja1, qnt_loja1, 'Avaliações Loja 1', 'orange')\n",
        "barchart(avaliacoes_loja2, notas_loja2, qnt_loja2, 'Avaliações Loja 2', 'skyblue')\n",
        "barchart(avaliacoes_loja3, notas_loja3, qnt_loja3, 'Avaliações Loja 3', 'lightcoral')\n",
        "barchart(avaliacoes_loja4, notas_loja4, qnt_loja4, 'Avaliações Loja 4', 'lightgreen')"
      ],
      "metadata": {
        "colab": {
          "base_uri": "https://localhost:8080/",
          "height": 1000
        },
        "id": "FRBsScBLIdEn",
        "outputId": "5b59fb15-0f04-431a-f4e1-1aadeed5d836"
      },
      "execution_count": 30,
      "outputs": [
        {
          "output_type": "display_data",
          "data": {
            "text/plain": [
              "<Figure size 300x300 with 1 Axes>"
            ],
            "image/png": "[encoded data removed]"
          },
          "metadata": {}
        },
        {
          "output_type": "display_data",
          "data": {
            "text/plain": [
              "<Figure size 300x300 with 1 Axes>"
            ],
            "image/png": "[encoded data removed]"
          },
          "metadata": {}
        },
        {
          "output_type": "display_data",
          "data": {
            "text/plain": [
              "<Figure size 300x300 with 1 Axes>"
            ],
            "image/png": "[encoded data removed]"
          },
          "metadata": {}
        },
        {
          "output_type": "display_data",
          "data": {
            "text/plain": [
              "<Figure size 300x300 with 1 Axes>"
            ],
            "image/png": "[encoded data removed]"
          },
          "metadata": {}
        }
      ]
    },
    {
      "cell_type": "code",
      "source": [
        "# Fretes-médio | Scatter\n",
        "\n",
        "#Dados iniciais\n",
        "frete_medio_lojas\n",
        "lojas_fretes = [tupla[0] for tupla in frete_medio_lojas.items()]\n",
        "fretes = [tupla[1] for tupla in frete_medio_lojas.items()]\n",
        "\n",
        "# Configurações do gráfico de pontos (scatter chart)\n",
        "\n",
        "# Configurações iniciais da figura\n",
        "plt.figure(figsize=(8,6))\n",
        "\n",
        "# Criando o gráfico de pontos\n",
        "plt.scatter(lojas_fretes,\n",
        "            fretes,\n",
        "            color='orange',\n",
        "            s=120,\n",
        "            alpha=1.0)\n",
        "\n",
        "# Personalizando o gráfico de pontos\n",
        "\n",
        "# Título do gráfico\n",
        "plt.title('Frete médio - Lojas Sr.João')\n",
        "\n",
        "# Nomeando os eixos\n",
        "plt.xlabel('Lojas')\n",
        "plt.ylabel('Valores')\n",
        "\n",
        "# Criando uma grade para facilitar a visualização\n",
        "plt.grid(True,\n",
        "         linestyle='--',\n",
        "         alpha=0.5)\n",
        "\n",
        "# Rotulando os valores exatos de cada ponto em cada ponto\n",
        "for i, txt in enumerate(fretes):\n",
        "  plt.annotate(f'R${txt}',\n",
        "              (lojas_fretes[i], fretes[i]),\n",
        "               textcoords='offset points',\n",
        "               xytext=(0,10),\n",
        "               ha='center',\n",
        "               va='bottom')\n",
        "\n",
        "# Ajustando o eixo y para tornar a visualização mais simples e realista\n",
        "plt.ylim(28,38)\n",
        "\n",
        "plt.show()"
      ],
      "metadata": {
        "colab": {
          "base_uri": "https://localhost:8080/",
          "height": 565
        },
        "id": "bp--Od3XmCX0",
        "outputId": "d5b2d908-3adb-45cd-fc7c-b4b73c91d082"
      },
      "execution_count": 48,
      "outputs": [
        {
          "output_type": "display_data",
          "data": {
            "text/plain": [
              "<Figure size 800x600 with 1 Axes>"
            ],
            "image/png": "[encoded data removed]"
          },
          "metadata": {}
        }
      ]
    },
    {
      "cell_type": "markdown",
      "source": [
        "#£ Recomendação"
      ],
      "metadata": {
        "id": "02YMTuukmeZS"
      }
    },
    {
      "cell_type": "markdown",
      "source": [
        "###Escrita de um texto, após as análises, explicando, com base nos dados apresentados, qual loja o Senhor João deve vender e porquê."
      ],
      "metadata": {
        "id": "DqtPWn4jmgM5"
      }
    },
    {
      "cell_type": "markdown",
      "source": [
        "###Escreva um texto explicando qual loja o Senhor João deve vender, levando em consideração todos os fatores analisados, como:\n",
        "\n",
        "* O faturamento total das lojas.\n",
        "\n",
        "* As categorias de produtos mais e menos vendidas.\n",
        "\n",
        "* A média das avaliações de clientes por loja.\n",
        "\n",
        "* Os produtos mais e menos vendidos.\n",
        "\n",
        "* O frete médio de cada loja.\n",
        "\n",
        "###Em seu relatório, inclua a justificativa para sua decisão, apoiada nas análises e nas visualizações que você gerou. Explique, de forma clara e objetiva, os motivos pelos quais uma loja se destaca (ou não) em relação às outras, considerando os pontos fortes e fracos de cada uma.\n",
        "\n",
        "###Seu relatório deve ser bem estruturado, com uma introdução que explique o objetivo da análise, um desenvolvimento com a apresentação dos dados e gráficos, e uma conclusão recomendando a loja que deve ser vendida e justificando a escolha."
      ],
      "metadata": {
        "id": "Mtu4scYrnYfR"
      }
    },
    {
      "cell_type": "code",
      "source": [
        "# Escreva o texto logo abaixo:"
      ],
      "metadata": {
        "id": "d_VPcfsZnIST"
      },
      "execution_count": null,
      "outputs": []
    },
    {
      "cell_type": "markdown",
      "source": [
        "aqui:\n"
      ],
      "metadata": {
        "id": "E_NyD84fn5M7"
      }
    }
  ]
}